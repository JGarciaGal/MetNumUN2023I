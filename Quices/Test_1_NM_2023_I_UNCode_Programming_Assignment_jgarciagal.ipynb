{
  "nbformat": 4,
  "nbformat_minor": 0,
  "metadata": {
    "colab": {
      "provenance": [],
      "include_colab_link": true
    },
    "kernelspec": {
      "name": "python3",
      "display_name": "Python 3"
    },
    "language_info": {
      "name": "python"
    }
  },
  "cells": [
    {
      "cell_type": "markdown",
      "metadata": {
        "id": "view-in-github",
        "colab_type": "text"
      },
      "source": [
        "<a href=\"https://colab.research.google.com/github/JGarciaGal/MetNumUN2023I/blob/main/Quices/Test_1_NM_2023_I_UNCode_Programming_Assignment_jgarciagal.ipynb\" target=\"_parent\"><img src=\"https://colab.research.google.com/assets/colab-badge.svg\" alt=\"Open In Colab\"/></a>"
      ]
    },
    {
      "cell_type": "markdown",
      "metadata": {
        "id": "GfjJs2zaFLfR"
      },
      "source": [
        "# **Test 1 NM 2023 I UNCode Programming Assignment**\n",
        "\n",
        "\n"
      ]
    },
    {
      "cell_type": "markdown",
      "metadata": {
        "id": "zNKJSMViFOmX"
      },
      "source": [
        "#**|||||||||||||||||||||||||||||||||||||||||||||||||||||||||||||||||||||||||||||||||||||||||||||||||||||||||||||||||||||||||||||||||||||||||||||**#"
      ]
    },
    {
      "cell_type": "markdown",
      "metadata": {
        "id": "3vUhQTJdGE-8"
      },
      "source": [
        "#**1. Modify the given optimized code for PLU factorization to generate the sequence of transfromations from $A$,$U_1$,$U_2$,$\\cdots$,$U_{n-2}$ to the uppper tiangular matrix $U$** \n",
        "\n",
        "\n",
        "\n",
        "\n",
        "\n"
      ]
    },
    {
      "cell_type": "code",
      "source": [
        "import numpy as np\n",
        "def diy_lu_optimized(a):\n",
        "    \n",
        "    N = a.shape[0]  # Get the number of rows in the input matrix\n",
        "    \n",
        "    U = np.array(a.copy(),dtype=float)  # Create a copy of the input matrix to store the upper triangular matrix\n",
        "    L = np.eye(N)  # Initialize L as an identity matrix of size N\n",
        "    P = np.eye(N)  # Initialize P as an identity matrix of size N (permutation matrix)\n",
        "    transformations = []\n",
        "    for j in range(N - 1):\n",
        "        pivot_row = np.argmax(np.abs(U[j:, j])) + j  # Find the pivot row for column j\n",
        "        \n",
        "        if pivot_row != j:\n",
        "            U[[j, pivot_row], :j+1] = U[[pivot_row, j], :j+1]  # Swap rows in U matrix\n",
        "            P[[j, pivot_row], :] = P[[pivot_row, j], :]  # Update permutation matrix\n",
        "            if j >= 1:\n",
        "                L[[j, pivot_row], :j] = L[[pivot_row, j], :j]  # Update L matrix\n",
        "        \n",
        "        gamma = U[j+1:, j] / U[j, j]  # Calculate the multipliers for elimination\n",
        "        \n",
        "        U[j+1:, j:] -= gamma[:, np.newaxis] * U[j, j:]  # Update the remaining part of the U matrix\n",
        "        L[j+1:, j] = gamma  # Update the lower part of the L matrix\n",
        "        if j == N-2:\n",
        "            transformations.append(U.copy())\n",
        "    return P, L, transformations[-1]  # Return the permutation matrix P, lower triangular matrix L, and upper triangular matrix U"
      ],
      "metadata": {
        "id": "Sfo7nlinoBUX"
      },
      "execution_count": null,
      "outputs": []
    },
    {
      "cell_type": "markdown",
      "source": [
        "$$ \\Lambda_1 P_1 A  = U_1 $$  \n",
        "$$ \\Lambda_2 P_2 U_1  = U_2$$\n",
        "$$\\vdots$$\n",
        "$$\\Lambda_{n-1} P_{n-1} U_{n-2} = U$$"
      ],
      "metadata": {
        "id": "NaE35TR0vDVh"
      }
    },
    {
      "cell_type": "markdown",
      "metadata": {
        "id": "cBnnOcz1u56h"
      },
      "source": [
        "---\n",
        "\n",
        "###**Problem Description**\n",
        "\n",
        "\n",
        "**Task:** Given a square matrix $A$ generate the sequence of transformations from $A$,$U_1$,$U_2$,$\\cdots$,$U_{n-2}$ to the uppper tiangular matrix $U$ and the sequence of row swaps performed.\n",
        "\n",
        "---\n",
        "\n",
        "**Input Format:** the square matrix $A$ is a numpy square matrix.\n",
        "\n",
        "**Output Format:** A tuple of the sequence of transformations [$A$,$U_1$,$U_2$,$\\cdots$,$U_{n-2}$,$U$] is a list of numpy matrices with its elements rounded to $3$ decimal places and  the sequence of row swaps is a list of sorted tuples of the indices of the rows swapped.\n",
        "\n",
        "---\n",
        "\n",
        "\n",
        "\n",
        "\n",
        "\n"
      ]
    },
    {
      "cell_type": "markdown",
      "metadata": {
        "id": "PjiZC1byHqJu"
      },
      "source": [
        "**Sample testcases**\n",
        "\n",
        "```python\n",
        "#run this sample textcases on a cell to help you validate your solution\n",
        "\n",
        "A = np.array([[4,3,1], [5,7,0], [9,9,3]])\n",
        "\n",
        "diy_lu_optimized_sequences(A)\n",
        "\n",
        "#  --> Expected output: ([array([[4., 3., 1.],\n",
        "         [5., 7., 0.],\n",
        "         [9., 9., 3.]]),\n",
        "  array([[ 9.   ,  3.   ,  1.   ],\n",
        "         [ 0.   ,  5.333, -0.556],\n",
        "         [ 0.   ,  7.667,  2.556]]),\n",
        "  array([[ 9.   ,  3.   ,  1.   ],\n",
        "         [ 0.   ,  7.667, -0.556],\n",
        "         [ 0.   ,  0.   ,  2.942]])],\n",
        " [(0, 2), (1, 2)])\n",
        "\n",
        "A = np.array([[1,2,3,4], [2,3,4,5], [0,1,2,3],[6,7,8,9]])\n",
        "\n",
        "diy_lu_optimized_sequences(A)\n",
        "\n",
        "#  --> Expected output: ([array([[1., 2., 3., 4.],\n",
        "         [2., 3., 4., 5.],\n",
        "         [0., 1., 2., 3.],\n",
        "         [6., 7., 8., 9.]]),\n",
        "  array([[6.   , 2.   , 3.   , 4.   ],\n",
        "         [0.   , 2.333, 3.   , 3.667],\n",
        "         [0.   , 1.   , 2.   , 3.   ],\n",
        "         [0.   , 6.667, 7.5  , 8.333]]),\n",
        "  array([[6.   , 2.   , 3.   , 4.   ],\n",
        "         [0.   , 6.667, 3.   , 3.667],\n",
        "         [0.   , 0.   , 1.55 , 2.45 ],\n",
        "         [0.   , 0.   , 6.45 , 7.05 ]]),\n",
        "  array([[6.   , 2.   , 3.   , 4.   ],\n",
        "         [0.   , 6.667, 3.   , 3.667],\n",
        "         [0.   , 0.   , 6.45 , 2.45 ],\n",
        "         [0.   , 0.   , 0.   , 6.461]])],\n",
        " [(0, 3), (1, 3), (2, 3)])\n",
        "```\n",
        "\n",
        "---"
      ]
    },
    {
      "cell_type": "markdown",
      "metadata": {
        "id": "DJ_bHorAF-Ip"
      },
      "source": [
        "**Solution**"
      ]
    },
    {
      "cell_type": "code",
      "metadata": {
        "id": "z5XnTHML__l6"
      },
      "source": [
        "import numpy as np\n",
        "def diy_lu_optimized_sequences(a):\n",
        "  \n",
        "  U_sequence =[]\n",
        "  P_sequence =[]\n",
        "  \n",
        "  U = np.array(a.copy(),dtype=float)  # Create a copy of the input matrix to store the upper triangular matrix\n",
        "  L = np.eye(N)  # Initialize L as an identity matrix of size N\n",
        "  P = np.eye(N)  # Initialize P as an identity matrix of size N (permutation matrix)\n",
        "  U_sequence = []\n",
        "  for j in range(N - 1):\n",
        "      pivot_row = np.argmax(np.abs(U[j:, j])) + j  # Find the pivot row for column j\n",
        "        \n",
        "      if pivot_row != j:\n",
        "          U[[j, pivot_row], :j+1] = U[[pivot_row, j], :j+1]  # Swap rows in U matrix\n",
        "          P[[j, pivot_row], :] = P[[pivot_row, j], :]  # Update permutation matrix\n",
        "          if j >= 1:\n",
        "              L[[j, pivot_row], :j] = L[[pivot_row, j], :j]  # Update L matrix\n",
        "          p_secuence.append((j, pivot_row))\n",
        "           \n",
        "      gamma = U[j+1:, j] / U[j, j]  # Calculate the multipliers for elimination\n",
        "      U_sequence.append(U.copy()) \n",
        "      U[j+1:, j:] -= gamma[:, np.newaxis] * U[j, j:]  # Update the remaining part of the U matrix\n",
        "      L[j+1:, j] = gamma  # Update the lower part of the L matrix\n",
        "      if j == N-2:\n",
        "            U_sequence.append(U.copy())\n",
        "  return U_sequence,P_sequence  #DO NOT change this line. Output will be read as a tuple."
      ],
      "execution_count": null,
      "outputs": []
    },
    {
      "cell_type": "code",
      "source": [
        "A = np.array([[4,3,1], [5,7,0], [9,9,3]])\n",
        "\n",
        "diy_lu_optimized(A)"
      ],
      "metadata": {
        "colab": {
          "base_uri": "https://localhost:8080/"
        },
        "id": "J6rg6IgBK2kP",
        "outputId": "914f66c2-8915-4036-8d41-2fe9f51c44f5"
      },
      "execution_count": null,
      "outputs": [
        {
          "output_type": "execute_result",
          "data": {
            "text/plain": [
              "(array([[0., 0., 1.],\n",
              "        [1., 0., 0.],\n",
              "        [0., 1., 0.]]),\n",
              " array([[1.        , 0.        , 0.        ],\n",
              "        [0.44444444, 1.        , 0.        ],\n",
              "        [0.55555556, 0.69565217, 1.        ]]),\n",
              " array([[ 9.        ,  3.        ,  1.        ],\n",
              "        [ 0.        ,  7.66666667, -0.55555556],\n",
              "        [ 0.        ,  0.        ,  2.94202899]]))"
            ]
          },
          "metadata": {},
          "execution_count": 9
        }
      ]
    }
  ]
}