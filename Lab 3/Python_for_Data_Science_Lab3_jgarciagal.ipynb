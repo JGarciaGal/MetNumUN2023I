{
  "nbformat": 4,
  "nbformat_minor": 0,
  "metadata": {
    "colab": {
      "provenance": [],
      "authorship_tag": "ABX9TyNCCnkCpN/G4l0yiAtJ2ij6",
      "include_colab_link": true
    },
    "kernelspec": {
      "name": "python3",
      "display_name": "Python 3"
    },
    "language_info": {
      "name": "python"
    }
  },
  "cells": [
    {
      "cell_type": "markdown",
      "metadata": {
        "id": "view-in-github",
        "colab_type": "text"
      },
      "source": [
        "<a href=\"https://colab.research.google.com/github/JGarciaGal/MetNumUN2023I/blob/main/Lab%203/Python_for_Data_Science_Lab3_jgarciagal.ipynb\" target=\"_parent\"><img src=\"https://colab.research.google.com/assets/colab-badge.svg\" alt=\"Open In Colab\"/></a>"
      ]
    },
    {
      "cell_type": "markdown",
      "source": [
        "# Python for Data Science\n",
        "This colab will be used for doing the tirth laboratory of the course of Métodos Numéricos 2023-1 "
      ],
      "metadata": {
        "id": "IxZTMUatiAzk"
      }
    },
    {
      "cell_type": "markdown",
      "source": [
        "From this point, I'll copy the text that the course use and I'll programming after each Module\n",
        "\n",
        "\n",
        "---\n",
        "\n"
      ],
      "metadata": {
        "id": "y2vG9wdAizuF"
      }
    },
    {
      "cell_type": "markdown",
      "source": [
        "**Introduction**\n",
        "\n",
        "Welcome to Python 101 for Data Science!\n",
        "We are glad you are taking this course! Here at IBM Developer Skills Network, the team spent a lot of time developing this Python 101 for Data Science course so everyone can learn to program with this incredibly powerful language.\n",
        "\n",
        "As you may know, Python has become one of the top languages used not only by developers, but also by data scientists, data engineers and researchers alike. It lends itself well to creating applications and analyzing big data.\n",
        "\n",
        "We hope you enjoy this beginner's course in Python for Data Science.\n",
        "\n",
        "- IBM Developer…"
      ],
      "metadata": {
        "id": "ow_9JnjgjNgP"
      }
    },
    {
      "cell_type": "markdown",
      "source": [
        "**Python is the Language to Learn**\n",
        "\n",
        "**If there was only one language...**\n",
        "\n",
        "Python is often described as powerful, yet easy to learn. It is a general purpose programming language, yet it comes with thousands of libraries for working with data. It is often the first language people learn, yet it is the language people use decades later in their career. Python is often the first tool people grab when they need to create a quick prototype, yet it is the language that powers some of the most complex projects. The power and flexibility with thousands of libraries made Python the language of choice for data scientists, data engineers, data analysts and AI researchers in leading companies and startups alike. Python is essential for any resume and it is a must-have skill for anyone who works with data.\n",
        "\n",
        "In short, if you could only learn one programming language, Python should be the language to learn."
      ],
      "metadata": {
        "id": "tzDDT5hujVue"
      }
    },
    {
      "cell_type": "markdown",
      "source": [
        "**Welcome (2:28)**\n",
        "http://videos.bigdatauniversity.com/PY0101EN/videos/PY0101EN%20-%20Welcome.mp4\n",
        "\n",
        "Python still being the most used high level programming languaje"
      ],
      "metadata": {
        "id": "x1dYfJp4kIYW"
      }
    },
    {
      "cell_type": "code",
      "execution_count": null,
      "metadata": {
        "colab": {
          "base_uri": "https://localhost:8080/"
        },
        "id": "u9RsSEOVh652",
        "outputId": "44ed895d-e89d-4a79-f49a-d572f1745ad7"
      },
      "outputs": [
        {
          "output_type": "stream",
          "name": "stdout",
          "text": [
            "Hello Python 101\n"
          ]
        }
      ],
      "source": [
        "print('Hello Python 101')"
      ]
    },
    {
      "cell_type": "code",
      "source": [
        "#Python Data Structures\n",
        "#List\n",
        "L= ['Hello', 'Python', 101]\n",
        "#Tuples\n",
        "T= (10, 8, 6, 4, 2, 0)\n",
        "#__ Compound Data types\n",
        "#Sets\n",
        "Album_set= set(L)\n",
        "#Dictionarys\n",
        "#__ Types Colection"
      ],
      "metadata": {
        "id": "HIsGVe1Xkw5j"
      },
      "execution_count": null,
      "outputs": []
    },
    {
      "cell_type": "markdown",
      "source": [
        "Also we can operate with logical comparisons (booleans), conditions of a value (if/else/elif, for, while) and functions (def function (a))."
      ],
      "metadata": {
        "id": "exzwVI9ZmKHV"
      }
    },
    {
      "cell_type": "markdown",
      "source": [
        "\n",
        "\n",
        "---\n",
        "\n"
      ],
      "metadata": {
        "id": "cOXtta5UT0TT"
      }
    },
    {
      "cell_type": "markdown",
      "source": [
        "**General Information**\n",
        "\n",
        "A Few Things To Know About This Course\n",
        "*   This course is self-paced. There is no instructor to follow or to rush you along - you learn on your own schedule. This also means you are going to need to be disciplined in your studies.\n",
        "*   You can start it at any time and you can take as long as you need to complete it. Your place in the course will be remembered and your labs will be saved. However, we strongly recommend that you don't take prolonged breaks between lessons as the mind tends to forget what it does not practice.\n",
        "*   You can review the course as many times as you wish, even after completing it.\n",
        "*   This is a hands-on course where you will gain practical skill by doing hands-on labs. We provide a a complete virtual lab environment on the cloud that you can access from anywhere as long as you have internet connection.\n",
        "*   We strongly recommend that you use Chrome or Firefox browser\n",
        "*   You can watch videos and read course materials on a mobile device. However, you will likely need to use a computer for hands on labs as small screen size and lack of keyboard make mobile devices a poor choice for hands on labs."
      ],
      "metadata": {
        "id": "Xh7Mi1tDTxvv"
      }
    },
    {
      "cell_type": "markdown",
      "source": [
        "# General Learning Objectives"
      ],
      "metadata": {
        "id": "lm_FeWJbUT17"
      }
    },
    {
      "cell_type": "markdown",
      "source": [
        "The objectives of this course are to get you started with Python as a programming language and to give you a taste of how to start working with data in Python.\n",
        "\n",
        "In this course you will learn about:\n",
        "\n",
        "* What is Python and why it is useful\n",
        "* The application of Python \n",
        "* How to define variables\n",
        "* Sets and conditional statements in Python\n",
        "* The purpose of having functions in Python\n",
        "* How to operate on files to read and write data in Python\n",
        "* How to use pandas, a must-have package for anyone attempting data analysis in Python"
      ],
      "metadata": {
        "id": "QldK-815UXiY"
      }
    },
    {
      "cell_type": "markdown",
      "source": [
        "Syllabus\n",
        "\n",
        "\n",
        "1.   Module 1 - Python Basics\n",
        "* Your first program\n",
        "* Types\n",
        "* Expressions and Variables\n",
        "* String Operations\n",
        "\n",
        "2.   Module 2 - Python Data Structures\n",
        "* Lists and Tuples\n",
        "* Sets\n",
        "* Dictionaries\n",
        "3. Module 3 - Python Programming Fundamentals\n",
        "* Conditions and Branching\n",
        "* Loops\n",
        "* Functions\n",
        "* Objects and Classes\n",
        "4. Module 4 - Working with Data in Python\n",
        "* Reading files with open\n",
        "* Writing files with open\n",
        "* Loading data with Pandas\n",
        "* Working with and Saving data with Pandas\n",
        "5. Module 5 - Working with Numpy Arrays & Simple APIs\n",
        "* Numpy 1D Arrays\n",
        "* Numpy 2D Arrays\n",
        "* Simple APIs\n",
        "* API Setup"
      ],
      "metadata": {
        "id": "7FDbqb-FUrCF"
      }
    },
    {
      "cell_type": "markdown",
      "source": [
        "# Grading Scheme"
      ],
      "metadata": {
        "id": "x5LfiiocVH37"
      }
    },
    {
      "cell_type": "markdown",
      "source": [
        "Grading Scheme\n",
        "\n",
        "1. The minimum passing mark for the course is 70% with the following weights:\n",
        "* 50% - All Review Questions \n",
        "* 50% - The Final Exam\n",
        "2. Though Review Questions and the Final Exam have a passing mark of 50% respectively, the only grade that matters is the overall grade for the course.\n",
        "3. Review Questions have no time limit. You are encouraged to review the course material to find the answers.  Please remember that the Review Questions are worth 50% of your final mark.\n",
        "4. The final exam has a 1 hour time limit.\n",
        "5. Attempts are per question in both, the Review Questions and the Final Exam:\n",
        "* One attempt - For True/False questions\n",
        "* Two attempts - For any question other than True/False\n",
        "6. There are no penalties for incorrect attempts.\n",
        "7. Clicking the \"Final Check\" button when it appears, means your submission is FINAL.  You will NOT be able to resubmit your answer for that question ever again.\n",
        "8. Check your grades in the course at any time by clicking on the \"Progress\" tab."
      ],
      "metadata": {
        "id": "KENNuvDNVL7S"
      }
    },
    {
      "cell_type": "markdown",
      "source": [
        "# Module 1 - Python Basics"
      ],
      "metadata": {
        "id": "NFvPLg9zhdAi"
      }
    },
    {
      "cell_type": "markdown",
      "source": [
        "**Learning Objectives**\n",
        "\n",
        "After completing this section you will:\n",
        "\n",
        "* Understand the available data types in Python\n",
        "* Be familiar with Python expressions and variables\n",
        "* Be able to perform basic operations on strings\n",
        "\n",
        "\n",
        "Most importantly, you will write your first bits of Python code using Jupyter notebook, the same rich environment used by thousands of data scientists, data analysts and data engineers."
      ],
      "metadata": {
        "id": "cNloZzxKYSf2"
      }
    },
    {
      "cell_type": "markdown",
      "source": [
        "\n",
        "\n",
        "---\n",
        "\n"
      ],
      "metadata": {
        "id": "Hx1vmQp2Ynb2"
      }
    },
    {
      "cell_type": "markdown",
      "source": [
        "**Your First Program 1 (1:15)**\n",
        "\n",
        "\n",
        "http://videos.bigdatauniversity.com/PY0101EN/videos/PY0101EN%20-%20Your%20first%20program.mp4"
      ],
      "metadata": {
        "id": "ZFNQuk_5YoXC"
      }
    },
    {
      "cell_type": "markdown",
      "source": [
        "Transcript:\n",
        "Let’s try your first program in Python. A statement or expression is an instruction\n",
        "\n",
        "the computer will run or execute. Perhaps the simplest program you can write\n",
        "\n",
        "is a print statement. When you run the print statement, Python will\n",
        "\n",
        "simply display the value in the parentheses. The value in the parentheses is called the\n",
        "\n",
        "argument. If you are using a Jupiter notebook in this\n",
        "\n",
        "course, you will see a small rectangle with the statement.\n",
        "\n",
        "This is called a cell. If you select this cell with your mouse, then\n",
        "\n",
        "click the run cell button. The statement will execute. The result will be displayed beneath\n",
        "\n",
        "the cell. We will follow this paradigm in the videos.\n",
        "\n",
        "It’s customary to comment your code. This tells other people what your code does. You\n",
        "\n",
        "simply put a hash symbol proceeding your comment. When you run the code, Python will ignore\n",
        "\n",
        "the comment. A Syntactic error is when Python does not\n",
        "\n",
        "understand your code. For example, if you spell print \"frint\", you will get an error\n",
        "\n",
        "message. A Semantic error is when your logic is wrong.\n",
        "\n",
        "For example, if you enter Python 102 instead of Python 101, you don't get an error message,\n",
        "\n",
        "but your code is wrong.\n"
      ],
      "metadata": {
        "id": "2S3anmX9Y0I7"
      }
    },
    {
      "cell_type": "code",
      "source": [
        "print('Hello python 3')\n",
        "print('Hello C++', 'This code is wrong, but has no errors')"
      ],
      "metadata": {
        "colab": {
          "base_uri": "https://localhost:8080/"
        },
        "id": "Bb14OneaVOY3",
        "outputId": "b6c4b9ef-b99d-463a-f1b1-01c8138c7705"
      },
      "execution_count": null,
      "outputs": [
        {
          "output_type": "stream",
          "name": "stdout",
          "text": [
            "Hello python 3\n",
            "Hello C++ This code is wrong, but has no errors\n"
          ]
        }
      ]
    },
    {
      "cell_type": "markdown",
      "source": [
        "**Types (2:57)**\n",
        "\n",
        "http://videos.bigdatauniversity.com/PY0101EN/videos/PY0101EN%20-%20Types.mp4"
      ],
      "metadata": {
        "id": "ffjhYdoJZrMu"
      }
    },
    {
      "cell_type": "markdown",
      "source": [
        "**Transcript:**\n",
        "A type is how Python represents different types of data. In this video, we will discuss\n",
        "\n",
        "some widely used types in Python. You can have different types in Python.\n",
        "\n",
        "They can be integers like 11, real numbers like 21.213. They can even be words.\n",
        "\n",
        "Integers, real numbers and words can be expressed as different data types.\n",
        "\n",
        "The following chart summarizes three data types for the last examples.\n",
        "\n",
        "The first column indicates the expression. The second column indicates the data type.\n",
        "\n",
        "We can see the actual data type in Python by using the type command.\n",
        "\n",
        "We can have int, which stands for an integer, and float that stands for float, essentially\n",
        "\n",
        "a real number. The type string is a sequence of characters.\n",
        "\n",
        "Here are some integers; integers can be negative or positive.\n",
        "\n",
        "It should be noted that there is a finite range of integers, but it is quite large.\n",
        "\n",
        "Floats are real numbers; they include the integers but also numbers in between the integers.\n",
        "\n",
        "Consider the numbers between 0 and 1. We can select numbers in between them; these numbers\n",
        "\n",
        "are floats. Similarly, consider the numbers between 0.5\n",
        "\n",
        "and 0.6. We can select numbers in-between them; these are floats as well.\n",
        "\n",
        "We can continue the process, zooming in for different numbers. Of course, there is a limit,\n",
        "\n",
        "but it is quite small. You can change the type of the expression\n",
        "\n",
        "in Python; this is called type casting. You can convert an int to a float.\n",
        "\n",
        "For example, you can convert or cast the integer 2 to a float 2.\n",
        "\n",
        "Nothing really changes. If you cast a float to an integer, you must\n",
        "\n",
        "be careful. For example, if you cast the float 1.1 to\n",
        "\n",
        "1, you will lose some information. If a string contains an integer value, you\n",
        "\n",
        "can convert it to int. If we convert a string that contains a non-integer\n",
        "\n",
        "value, we get an error. Check out more examples in the lab.\n",
        "\n",
        "You can convert an int to a string or a float to a string.\n",
        "\n",
        "Boolean is another important type in Python. A Boolean can take on two values.\n",
        "\n",
        "The first value is true, just remember we use an uppercase T.\n",
        "\n",
        "Boolean values can also be false, with an uppercase F.\n",
        "\n",
        "Using the type command on a Boolean value, we obtain the term bool, this is short for\n",
        "\n",
        "Boolean. If we cast a Boolean true to an integer or\n",
        "\n",
        "float, we will get a 1. If we cast a Boolean false to an integer or\n",
        "\n",
        "float, we get a zero. If you cast a 1 to a Boolean, you get a true.\n",
        "\n",
        "Similarly, if you cast a 0 to a Boolean, you get a false.\n",
        "\n",
        "Check the labs for more examples or check Python.org for other kinds of types in Python."
      ],
      "metadata": {
        "id": "roYeEPkTaHZ0"
      }
    },
    {
      "cell_type": "code",
      "source": [
        "a= 1\n",
        "b= 1.0\n",
        "c= 0\n",
        "print(a, type(a), bool(a))\n",
        "print(b, type(b))\n",
        "print(c, bool(c))"
      ],
      "metadata": {
        "colab": {
          "base_uri": "https://localhost:8080/"
        },
        "id": "efQreYzgbaSD",
        "outputId": "d6df3722-f650-4a36-cc41-ef8cbcf7e8da"
      },
      "execution_count": null,
      "outputs": [
        {
          "output_type": "stream",
          "name": "stdout",
          "text": [
            "1 <class 'int'> True\n",
            "1.0 <class 'float'>\n",
            "0 False\n"
          ]
        }
      ]
    },
    {
      "cell_type": "markdown",
      "source": [
        "\n",
        "\n",
        "---\n",
        "\n"
      ],
      "metadata": {
        "id": "j0gga4tvFFjQ"
      }
    },
    {
      "cell_type": "markdown",
      "source": [
        "**Expressions and Variables (3:50)**\n",
        "\n",
        "http://videos.bigdatauniversity.com/PY0101EN/videos/PY0101EN%20-%20Expressions%20and%20Variables.mp4"
      ],
      "metadata": {
        "id": "bX9AiKWIFGVo"
      }
    },
    {
      "cell_type": "markdown",
      "source": [
        "In this video we’ll cover expressions and variables.\n",
        "Expressions describe a type of operation that computers perform.\n",
        "Expressions are operations that Python performs. For example, basic arithmetic operations like\n",
        "adding multiple numbers. The result, in this case, is 160.\n",
        "We call the numbers operands and the maths symbols, in this case addition, are called\n",
        "operators. We can perform operations such as subtraction\n",
        "using the subtraction sign. In this case, the result is a negative number.\n",
        "We can perform multiplication operations using the asterisk. The result is 25.\n",
        "In this case the operands are given by – and *.\n",
        "We can also perform division with the forward slash.\n",
        "25 divided by 5 is 5. 25 divided by 6 is approximately 4.167.\n",
        "In Python 3, the version we will be using in this course, both will result in a float.\n",
        "We can use the double slash for integer division, where the result is rounded.\n",
        "Be aware, in some cases, the results are not the same as regular division.\n",
        "Python follows mathematical conventions when performing mathematical expressions.\n",
        "The following operations are in a different order.\n",
        "In both cases, Python performs multiplication, then addition to obtain the final result.\n",
        "There are a lot more operations you can do with Python. Check the labs for more examples.\n",
        "We will also be covering more complex operations throughout the course.\n",
        "The expressions in the parentheses are performed first. We then multiply the result by 60,\n",
        "the result is 1920. Now let’s look at variables.\n",
        "We can use variables to store values, in this case, we assign a value of 1 to the variable\n",
        "my_variable using the assignment operator i.e., the equals sign.\n",
        "We can then use the value somewhere else in the code by typing the exact name of the variable.\n",
        "We will use a colon do denote the value of the variable.\n",
        "We can assign a new value to my_variable using the assignment operator.\n",
        "We assign a value of 10. The variable now has a value of 10.\n",
        "The old value of the variable is not important. We can store the results of expressions, for\n",
        "example, we add several values and assign the result to x.\n",
        "x now stores the result. We can also perform operations on x and save\n",
        "the result to a new variable y. y now has a value of 2.666\n",
        "We can also perform operations on x and assign the value x.\n",
        "The variable x now has a value 2.666. As before, the old value of x is not important.\n",
        "We can use the type command in variables as well.\n",
        "It's good practice to use meaningful variable names, so you don't have to keep track of\n",
        "what the variable is doing. Let’s say we would like to convert the number\n",
        "of minutes in the highlighted examples to number of hours in the following music dataset.\n",
        "We call the variable that contains the total number of minutes, total_min. It’s common\n",
        "to use the underscore to represent the start of a new word, you can also use a capital\n",
        "letter. We call the variable that contains the total\n",
        "number of hours total_hr. We can obtain the total number of hours by\n",
        "dividing total_min by 60. The result is approximately 2.367 hours.\n",
        "If we modify the value of the first variable, the value of the variable will change.\n",
        "The final result values change accordingly, but we do not have to modify the rest of the\n",
        "code.\n"
      ],
      "metadata": {
        "id": "NZZrBH8hFLhX"
      }
    },
    {
      "cell_type": "code",
      "source": [
        "print(15+30)\n",
        "print(15-30)\n",
        "print(3*7)\n",
        "print(21/7)\n",
        "print(21//6)\n",
        "print(30+2*6)\n",
        "print((32+2)*6)\n",
        "a=3\n",
        "b=2 + 3 * (1+4)\n",
        "print(b)\n",
        "b=b/2\n",
        "print(b)"
      ],
      "metadata": {
        "colab": {
          "base_uri": "https://localhost:8080/"
        },
        "id": "SHaS1F7ZFQd4",
        "outputId": "334c0d3e-614f-4863-f6f2-02949e1c6058"
      },
      "execution_count": null,
      "outputs": [
        {
          "output_type": "stream",
          "name": "stdout",
          "text": [
            "45\n",
            "-15\n",
            "21\n",
            "3.0\n",
            "3\n",
            "42\n",
            "204\n",
            "17\n",
            "8.5\n"
          ]
        }
      ]
    },
    {
      "cell_type": "markdown",
      "source": [
        "\n",
        "\n",
        "---\n",
        "\n"
      ],
      "metadata": {
        "id": "wrEqWVb_GRml"
      }
    },
    {
      "cell_type": "markdown",
      "source": [
        "**Lab - Write Your First Python Code!**\n",
        "\n",
        "Lab Instructions\n",
        "\n",
        "How do I run Python?\n",
        "You can use the Skills Network Labs environment to run Python code in Jupyter notebooks by simply clicking on the \"Start Lab\" button below.\n",
        "\n",
        "Do I need to download or install Python?\n",
        "No, you can use Python directly within your web browser through Skills Network Labs. Just click on the \"Start Lab\" button below and Skills Network Labs will load directly on this page.\n",
        "\n",
        "Which version is used in these labs: Python 2 or Python 3?\n",
        "All of these labs use Python 3.\n",
        "\n",
        "What is \"Skills Network Labs\"?\n",
        "Skills Network Labs is a virtual lab environment that lets you practice what you learn in these courses.\n",
        "\n",
        "What are \"Jupyter Notebooks\"?\n",
        "Jupyter Notebooks are a popular data science tool that lets data scientists write code, see the results, and describe what's happening -- all in a single document. "
      ],
      "metadata": {
        "id": "Oqa44OsGGSWM"
      }
    },
    {
      "cell_type": "markdown",
      "source": [
        "\n",
        "\n",
        "---\n",
        "\n",
        "**String Operations (3:53)**\n",
        "http://videos.bigdatauniversity.com/PY0101EN/videos/PY0101EN%20-%20String%20Operations.mp4"
      ],
      "metadata": {
        "id": "soWLei-8cnrn"
      }
    },
    {
      "cell_type": "markdown",
      "source": [
        "In Python, a string is a sequence of characters. A string is contained within two quotes:\n",
        "You could also use single quotes. A string can be spaces, or digits.\n",
        "A string can also be special characters. We can bind or assign a string to another\n",
        "variable. It is helpful to think of a string as an ordered\n",
        "sequence. Each element in the sequence can be accessed\n",
        "using an index represented by the array of numbers.\n",
        "The first index can be accessed as follows. We can access index 6.\n",
        "Moreover, we can access the 13th index. We can also use negative indexing with strings.\n",
        "The last element is given by the index -1. The first element can be obtained by index\n",
        "-15, and so on. We can bind a string to another variable.\n",
        "It is helpful to think of string as a list or tuple.\n",
        "We can treat the string as a sequence and perform sequence operations.\n",
        "We can also input a stride value as follows. The 2 indicates we select every second variable.\n",
        "We can also incorporate slicing. In this case. we return every second value\n",
        "up to index four. We can use the “len” command to obtain\n",
        "the length of the string. As there are 15 elements, the result is 15.\n",
        "We can concatenate or combine strings. We use the addition symbols.\n",
        "The result is a new string that is a combination of both.\n",
        "We can replicate values of a string. We simply multiply the string by the number\n",
        "of times we would like to replicate it, in this case, three.\n",
        "The result is a new string. The new string consists of three copies of\n",
        "the original string. This means you cannot change the value of\n",
        "the string, but you can create a new string. For example, you can create a new string by\n",
        "setting it to the original variable and concatenated with a new string.\n",
        "The result is a new string that changes from Michael Jackson to “Michael Jackson is the\n",
        "best.” Strings are immutable.\n",
        "Backslashes represent the beginning of escape sequences.\n",
        "Escape sequences represent strings that may be difficult to input.\n",
        "For example, backslashes \"n\" represent a new line.\n",
        "The output is given by a new line after the backslashes \"n” is encountered.\n",
        "Similarly, backslash \"t\" represents a tab. The output is given by a tab where the backslash\n",
        "\"t\" is. If you want to place a backslash in your string,\n",
        "use a double backslash. The result is a backslash after the escape\n",
        "sequence. We can also place an r in front of the string.\n",
        "Now let’s take a look at String Methods. Strings are sequences and, as such, have apply\n",
        "methods that work on lists and tuples. Strings also have a second set of methods\n",
        "that just work on strings. When we apply a method to the string \"A”,\n",
        "we get a new string “B\" that is different from \"A\".\n",
        "Let’s do some examples. Let's try with the method upper.\n",
        "This method converts lower case characters to upper case characters.\n",
        "In this example, we set the variable A to the following value.\n",
        "We apply the method \"upper\" and set it equal to \"B“.\n",
        "The value for B is similar to \"A\" but all the characters are uppercase.\n",
        "The method replaces a segment of the string, i.e., a substring with a new string.\n",
        "We input the part of the string we would like to change.\n",
        "The second argument is what we would like to exchange the segment with.\n",
        "The result is a new string with the segment changed.\n",
        "The method find, finds sub-strings. The argument is the sub-string you would like\n",
        "to find. The output is the first index of the sequence.\n",
        "We can find the sub-string Jack. If the sub-string is not in the string, the\n",
        "output is negative one. Check the labs for more examples.\n"
      ],
      "metadata": {
        "id": "DlpQMzppcsgw"
      }
    },
    {
      "cell_type": "markdown",
      "source": [
        "\n",
        "\n",
        "---\n",
        "\n",
        "**Lab - String Operations**\n",
        "\n",
        "---"
      ],
      "metadata": {
        "id": "KRDBSMEoehLN"
      }
    },
    {
      "cell_type": "markdown",
      "source": [
        "**Review Questions**\n",
        "Instructions for Review Questions\n",
        "\n",
        "How much time do I have to complete these questions?\n",
        "Unlimited. You can take as long you want to answer these questions.\n",
        "\n",
        "Can I go back to the videos to check something, then come back to these Review Questions?\n",
        "Yes, absolutely! These questions are for you to review what you've learned so far. Take your time.\n",
        "\n",
        "Do these Review Questions count towards my final grade?\n",
        "Yes, all of the review questions, combined together, are worth 50% of your total mark.\n",
        "\n",
        "How many chances do I get to answer these questions?\n",
        "It depends: \n",
        "- For True/False questions, you only get one (1) chance.\n",
        "- For any other question (that is not True/False), you get two (2) chances.\n",
        "\n",
        "How can I check my overall course grade?\n",
        "You can check your grades by clicking on \"Progress\" in the top menu."
      ],
      "metadata": {
        "id": "2YcVRFZkenTT"
      }
    },
    {
      "cell_type": "markdown",
      "source": [
        "**Review Question 1**\n",
        "\n",
        "What is the result of the following operation in Python:\n",
        "\n",
        "3 + 2 * 2\n",
        "\n",
        "* 10\n",
        "* 7\n",
        "* 9\n",
        "* 12\n"
      ],
      "metadata": {
        "id": "iE2I6aImgGVG"
      }
    },
    {
      "cell_type": "code",
      "source": [
        "var = '01234567'\n",
        "print(var[::2])"
      ],
      "metadata": {
        "colab": {
          "base_uri": "https://localhost:8080/"
        },
        "id": "DgMPPIprgaSE",
        "outputId": "ff88676b-691b-46b2-f908-6945aa633bb6"
      },
      "execution_count": null,
      "outputs": [
        {
          "output_type": "stream",
          "name": "stdout",
          "text": [
            "0246\n"
          ]
        }
      ]
    },
    {
      "cell_type": "code",
      "source": [
        "'1'+'2'"
      ],
      "metadata": {
        "colab": {
          "base_uri": "https://localhost:8080/",
          "height": 35
        },
        "id": "VyyUSu1ogpGW",
        "outputId": "627491ed-3cb7-4e72-c54f-a75a3756a14a"
      },
      "execution_count": null,
      "outputs": [
        {
          "output_type": "execute_result",
          "data": {
            "text/plain": [
              "'12'"
            ],
            "application/vnd.google.colaboratory.intrinsic+json": {
              "type": "string"
            }
          },
          "metadata": {},
          "execution_count": 6
        }
      ]
    },
    {
      "cell_type": "code",
      "source": [
        "myvar = 'hello'\n",
        "myvar.upper()"
      ],
      "metadata": {
        "colab": {
          "base_uri": "https://localhost:8080/",
          "height": 35
        },
        "id": "iDhfqMbCguKh",
        "outputId": "9255d190-4775-4e08-9111-8e115058e7ef"
      },
      "execution_count": null,
      "outputs": [
        {
          "output_type": "execute_result",
          "data": {
            "text/plain": [
              "'HELLO'"
            ],
            "application/vnd.google.colaboratory.intrinsic+json": {
              "type": "string"
            }
          },
          "metadata": {},
          "execution_count": 7
        }
      ]
    },
    {
      "cell_type": "markdown",
      "source": [
        "# Module 2 - Python Data Structures "
      ],
      "metadata": {
        "id": "2UOE3Gtrg5Ur"
      }
    },
    {
      "cell_type": "markdown",
      "source": [
        "Learning Objectives\n",
        "\n",
        "In this lesson you will learn about:\n",
        "* Lists and Tuples \n",
        "* Sets\n",
        "* Dictionaries "
      ],
      "metadata": {
        "id": "fkf5Nn3vg97e"
      }
    },
    {
      "cell_type": "markdown",
      "source": [
        "\n",
        "\n",
        "---\n",
        "\n",
        "\n",
        "**Lists and Tuples (8:46)**\n",
        "http://videos.bigdatauniversity.com/PY0101EN/videos/PY0101EN%20-%20Lists%20and%20Tuples.mp4"
      ],
      "metadata": {
        "id": "F741LxpyhFRT"
      }
    },
    {
      "cell_type": "markdown",
      "source": [
        "In this video, we will cover lists and tuples. These are called compound data types and are\n",
        "one of the key types of data structures in Python.\n",
        "Tuples Tuples are an ordered sequence.\n",
        "Here is a Tuple “Ratings.”\n",
        "Tuples are expressed as comma-separated elements within parentheses.\n",
        "These are values inside the parentheses.\n",
        "In Python, there are different types: strings, integer, float.\n",
        "They can all be contained in a tuple, but the type of the variable is tuple.\n",
        "Each element of a tuple can be accessed via an index.\n",
        "The following table represents the relationship between the index and the elements in the\n",
        "tuple.\n",
        "The first element can be accessed by the name of the tuple followed by a square bracket\n",
        "with the index number, in this case, zero.\n",
        "We can access the second element as follows.\n",
        "We can also access the last element.\n",
        "In Python, we can use negative index.\n",
        "The relationship is as follows.\n",
        "The corresponding values are shown here.\n",
        "We can concatenate or combine tuples by adding them.\n",
        "The result is the following with the following index.\n",
        "If we would like multiple elements from a tuple, we could also slice tuples.\n",
        "For example, if we want the first three elements, we use the following command.\n",
        "The last index is 1 larger than the index you want.\n",
        "Similarly, if we want the last two elements, we use the following command.\n",
        "Notice how the last index is 1 larger than the length of the tuple.\n",
        "We can use the “len” command to obtain the length of a tuple.\n",
        "As there are 5 elements, the result is five.\n",
        "Tuples are immutable, which means we can't change them.\n",
        "To see why this is important, let's see what happens when we set the variable Ratings 1\n",
        "to ratings.\n",
        "Let's use the image to provide a simplified explanation of what’s going on.\n",
        "Each variable does not contain a tuple, but references the same immutable tuple object.\n",
        "See the ‘objects and classes’ module for more about objects.\n",
        "Let's say we want to change the element at index 2.\n",
        "Because tuples are immutable, we can't.\n",
        "Therefore, Ratings 1 will not be affected by a change in Rating because the tuple is\n",
        "immutable i.e., we can't change it.\n",
        "We can assign a different tuple to the Ratings variable.\n",
        "The variable Ratings now references another tuple.\n",
        "As a consequence of immutability, if we would like to manipulate a tuple, we must create\n",
        "a new tuple instead.\n",
        "For example, if we would like to sort a tuple, we use the function sorted.\n",
        "The input is the original tuple.\n",
        "The output is a new sorted tuple.\n",
        "For more on functions, see our video on functions.\n",
        "A tuple can contain other tuples as well as other complex data types; this is called nesting.\n",
        "We can access these elements using the standard indexing methods.\n",
        "If we select an index with a tuple, the same index convention applies.\n",
        "As such, we can then access values in the tuple.\n",
        "For example, we could access the second element.\n",
        "We can apply this indexing directly to the tuple variable NT.\n",
        "It is helpful to visualize this as a tree.\n",
        "We can visualize this nesting as a tree.\n",
        "The tuple has the following indexes.\n",
        "If we consider indexes with other tuples, we see the tuple at index 2 contains a tuple\n",
        "with two elements.\n",
        "We can access those two indexes.\n",
        "The same convention applies to index 3.\n",
        "We can access the elements in those tuples as well.\n",
        "We can continue the process.\n",
        "We can even access deeper levels of the tree by adding another square bracket.\n",
        "We can access different characters in the string or various elements in the second tuple\n",
        "contained in the first.\n",
        "Lists are also a popular data structure in Python.\n",
        "Lists are also an ordered sequence.\n",
        "Here is a list L. A list is represented with square brackets.\n",
        "In many respects lists are like tuples, one key difference is they are mutable.\n",
        "Lists can contain strings, floats, integers.\n",
        "We can nest other lists.\n",
        "We also nest tuples and other data structures; the same indexing conventions apply for nesting.\n",
        "Like tuples, each element of a list can be accessed via an index.\n",
        "The following table represents the relationship between the index and the elements in the\n",
        "list.\n",
        "The first element can be accessed by the name of the list followed by a square bracket with\n",
        "the index number, in this case zero.\n",
        "We can access the second element as follows.\n",
        "We can also access the last element.\n",
        "In Python, we can use a negative index.\n",
        "The relationship is as follows.\n",
        "The corresponding indexes are as follows.\n",
        "We can also perform slicing in lists.\n",
        "For example, if we want the last two elements in this list we use the following command.\n",
        "Notice how the last index is 1 larger than the length of the list.\n",
        "The index conventions for lists and tuples are identical.\n",
        "Check the labs for more examples.\n",
        "We can concatenate or combine lists by adding them.\n",
        "The result is the following.\n",
        "The new list has the following indices.\n",
        "Lists are mutable, therefore, we can change them.\n",
        "For example, we apply the method extends by adding a \"dot\" followed by the name of the\n",
        "method, then parenthesis.\n",
        "The argument inside the parenthesis is a new list that we are going to concatenate to the\n",
        "original list.\n",
        "In this case, instead of creating a new list, L1, the original list L is modified by adding\n",
        "two new elements.\n",
        "To learn more about methods check out our video on objects and classes.\n",
        "Another similar method is append.\n",
        "If we apply append instead of extended we add one element to the list.\n",
        "If we look at the index, there is only one more element.\n",
        "Index 3 contains the list we appended.\n",
        "Every time we apply a method, the lists changes.\n",
        "If we apply extend, we add two new elements to the list.\n",
        "The list L is modified by adding two new elements.\n",
        "If we append the string “A“, we further change the list adding the string “A”.\n",
        "As lists are mutable, we can change them.\n",
        "For example, we can change the first element as follows.\n",
        "The list now becomes: “hard rock”, 10, 1.2.\n",
        "We can delete an element of a list using the \"del\" command; we simply indicate the list\n",
        "item we would like to remove as an argument.\n",
        "For example, if we would like to remove the first element, the result becomes 10,1.2.\n",
        "We can delete the second element.\n",
        "This operation removes the second element of the list.\n",
        "We can convert a string to a list using split.\n",
        "For example, the method split converts every group of characters separated by a space into\n",
        "an element of a list.\n",
        "We can use the split function to separate strings on a specific character, known as\n",
        "a delimiter.\n",
        "We simply pass the delimiter we would like to split on as an argument, in this case a\n",
        "comma.\n",
        "The result is a list, each element corresponds to a set of characters that have been separated\n",
        "by a comma.\n",
        "When we set one variable, B equal to A, both A and B are referencing the same list.\n",
        "Multiple names referring to the same object is known as aliasing.\n",
        "We know from the last slide that the first element in B is set as hard rock.\n",
        "If we change the first element in “A” to “banana” we get a side effect; the\n",
        "value of B will change as a consequence.\n",
        "\"A\" and “B” are referencing the same list, therefore if we change \"A“, list \"B\" also\n",
        "changes.\n",
        "If we check the first element of B after changing list ”A” we get banana instead of hard\n",
        "rock.\n",
        "You can clone list “A” by using the following syntax.\n",
        "Variable \"A\" references one list.\n",
        "Variable “B” references a new copy or clone of the original list.\n",
        "Now if you change “A”, \"B\" will not change.\n",
        "We can get more info on lists, tuples and many other objects in Python using the help\n",
        "command.\n",
        "Simply pass in the list, tuple or any other Python object.\n",
        "See the labs for more things you can do with lists.\n"
      ],
      "metadata": {
        "id": "KotrZgPDhHPu"
      }
    },
    {
      "cell_type": "markdown",
      "source": [
        "**Lab - Lists and Tuples**"
      ],
      "metadata": {
        "id": "XxNOjQOHjrSW"
      }
    },
    {
      "cell_type": "markdown",
      "source": [
        "\n",
        "\n",
        "---\n",
        "\n",
        "\n",
        "**Sets (5:12)**\n",
        "http://videos.bigdatauniversity.com/PY0101EN/videos/PY0101EN%20-%20Sets.mp4"
      ],
      "metadata": {
        "id": "KmKbCtAMjtGD"
      }
    },
    {
      "cell_type": "markdown",
      "source": [
        "Let’s cover sets; they are also a type of collection.\n",
        "Sets are a type of collection. This means that like lists and tuples, you\n",
        "can input different python types. Unlike lists and tuples they are unordered.\n",
        "This means sets do not record element position. Sets only have unique elements.\n",
        "This means there is only one of a particular element in a set.\n",
        "To define a set, you use curly brackets You place the elements of a set within the\n",
        "curly brackets. You notice there are duplicate items.\n",
        "When the actual set is created, duplicate items will not be present.\n",
        "You can convert a list to a set by using the function set; this is called type-casting.\n",
        "You simply use the list as the input to the function set.\n",
        "The result will be a list converted to a set. Let's go over an example\n",
        "We start off with a list. We input the list to the function set.\n",
        "The function set returns a set. Notice how there are no duplicate elements.\n",
        "Let’s go over Set Operations; these can be used to change the set.\n",
        "Consider the set “A”. Let's represent this set with a circle.\n",
        "If you are familiar with sets this can be part of a Venn diagram.\n",
        "A Venn diagram is a tool that uses shapes usually to represent sets.\n",
        "We can add an item to a set using the add method.\n",
        "We just put the set name followed by a dot, then the add method.\n",
        "The argument is the new element of the set we would like to add, in this case, \"NSYNC\".\n",
        "The set \"A\" now has \"NSYNC” as an item. If we add the same item twice, nothing will\n",
        "happen as there can be no duplicates in a set.\n",
        "Let’s say we would like to remove NSYNC from set A.\n",
        "We can also remove an item from a set using the remove method.\n",
        "We just put the set name followed by a dot then the remove method.\n",
        "The argument is the element of the set we would like to remove, in this case, \"NSYNC\".\n",
        "After the remove method is applied to the set, set \"A\" does not contain the item\n",
        "\"NSYNC”. You can use this method for any item in the set.\n",
        "We can verify if an element is in the set\n",
        "using the \"in\" command as follows. The command checks if the item, in this case,\n",
        "\"AC/DC\" is in the set. If the item is in the set, it returns true.\n",
        "If we look for an item that is not in the set, in this case for the item “Who”,\n",
        "as the item is not in the set, we will get a false.\n",
        "These are types of mathematical set operations; there are other operations we can do.\n",
        "There are lots of useful mathematical operations we can do between sets.\n",
        "Let's define the set \"album_set_1\", we can represent it using a red circle or Venn diagram.\n",
        "Similarly, we can define the set \"album_set_2”.\n",
        "We can also represent it using a blue circle or Venn diagram.\n",
        "The Intersection of two sets is a new set containing elements which are in both of those\n",
        "sets. It's helpful to use Venn diagrams.\n",
        "The two circles that represent the sets combine; the overlap represents the new set.\n",
        "As the overlap is comprised of the red circle and blue circle, we define the intersection\n",
        "in terms of “and.” In Python, we use the ampersand to find the\n",
        "union of two sets. If we overlay the values of the set over the\n",
        "circle placing the common elements in the overlapping area, we see the correspondence.\n",
        "After applying the Intersection operation, all the items that are not in both sets disappear.\n",
        "In Python, we simply just place the ampersand between the two sets.\n",
        "We see that both \"AC/DC\" and \"Back in Black\" are in both sets.\n",
        "The result is a new set album, set 3, containing all the elements in both album_set_1 and album\n",
        "set 2. The union of two sets is the new set of elements\n",
        "which contain all the items in both sets. We can find the union of the sets album set\n",
        "1 and album_set_2 as follows. The result is a new set that has all the elements\n",
        "of album_set_1 and album_set_2. This new set is represented in green.\n",
        "Consider the new album set, \"album_set_3\"; the set contains the elements \"AC/DC\" and \"Back\n",
        "in Black”. We can represent this with a Venn diagram,\n",
        "as all the elements in album_set_3 are in album_set_1.\n",
        "The circle representing album_set_1 encapsulates the circle representing album_set_3.\n",
        "We can check if a set is a subset using the is subset method.\n",
        "As album_set_3 is a subset of the album_set_1, the result is true.\n",
        "There is a lot more you can do with sets. Check out the lab for more examples.\n"
      ],
      "metadata": {
        "id": "31wjIr5rkHgk"
      }
    },
    {
      "cell_type": "markdown",
      "source": [
        "**Lab Sets**\n"
      ],
      "metadata": {
        "id": "dby1L13EkLEb"
      }
    },
    {
      "cell_type": "markdown",
      "source": [
        "\n",
        "\n",
        "---\n",
        "\n",
        "\n",
        "**Dictionaries (2:24)**\n",
        "\n",
        "http://videos.bigdatauniversity.com/PY0101EN/videos/PY0101EN%20-%20Dictionaries.mp4\n"
      ],
      "metadata": {
        "id": "WwH2iraWq-s8"
      }
    },
    {
      "cell_type": "markdown",
      "source": [
        "Let’s cover dictionaries in Python. Dictionaries are a type of collection in Python.\n",
        "If you recall, a list has integer indexes. These are like addresses.\n",
        "A list also has elements. A dictionary has keys and values.\n",
        "The key is analogous to the index, they are like addresses but they don’t have to be\n",
        "integers. They are usually characters; the values are\n",
        "similar to the elements in a list and contain information.\n",
        "To create a dictionary, we use curly brackets. The keys are the first elements; they must\n",
        "be immutable and unique. Each key is followed by a value separated\n",
        "by a colon. The values can be immutable, mutable and duplicates.\n",
        "Each key and value pair is separated by a comma.\n",
        "Consider the following example of a dictionary, the album title is the key and the value is\n",
        "the release data. We can use yellow to highlight the keys and\n",
        "leave the values in white. It is helpful to use the table to visualize\n",
        "a dictionary, where the first column represents the keys and the second column represents\n",
        "the values. We can add a few more examples to the dictionary.\n",
        "We can also assign the dictionary to a variable. The key is used to look up the value. We use\n",
        "square brackets; the argument is the key. This outputs the value.\n",
        "Using the key of \"Back in Black,\" this returns the value of 1980.\n",
        "The key \"The Dark Side of the Moon,\" gives us the value of 1973.\n",
        "Using the Key \"The Bodyguard,\" gives us the value 1992, and so on.\n",
        "We can add a new entry to the dictionary as follows.\n",
        "This will add the value 2007 with the new key called \"Graduation.\"\n",
        "We can delete an entry as follows. This gets rid of the key \"Thriller\" and its\n",
        "value. We can verify if an element is in the dictionary\n",
        "using the in command as follows. The command checks the keys. If they are in\n",
        "the dictionary, they return a true. If we try the same command with a key that\n",
        "is not in the dictionary, we get a false. If we try with another key that is not in\n",
        "the dictionary, we get a false. In order to see all the keys in a dictionary,\n",
        "we can use the method keys to get the keys. The output is a list like object with all\n",
        "the keys. In the same way, we can obtain the values\n",
        "using the method values. Check out the labs for more examples and info\n",
        "on dictionaries."
      ],
      "metadata": {
        "id": "JOypBvNvrCgL"
      }
    },
    {
      "cell_type": "markdown",
      "source": [
        "**Lab - Dictionaries**"
      ],
      "metadata": {
        "id": "ou4V8lpMrM4p"
      }
    },
    {
      "cell_type": "markdown",
      "source": [
        "**Review Question 2**\n",
        "\n",
        "1. What is the syntax used to obtain the first element of the tuple:\n",
        "\n",
        "* A = ('a','b','c')"
      ],
      "metadata": {
        "id": "8AKoaeVyrYPs"
      }
    },
    {
      "cell_type": "code",
      "source": [
        "A= ('a', 'b', 'c')\n",
        "A[0]\n",
        "l=  ['a', 'b', 'c']\n",
        "print(l.append(['a', 'b']))\n"
      ],
      "metadata": {
        "colab": {
          "base_uri": "https://localhost:8080/"
        },
        "id": "EMMVw9Y_rcLO",
        "outputId": "dd6a3766-3917-4ac9-9211-042209369d7f"
      },
      "execution_count": null,
      "outputs": [
        {
          "output_type": "stream",
          "name": "stdout",
          "text": [
            "None\n"
          ]
        }
      ]
    },
    {
      "cell_type": "markdown",
      "source": [
        "2. After applying the following method, L.append(['a','b']), the following list will only be one element longer.     [True]"
      ],
      "metadata": {
        "id": "fw1e0gmarr2z"
      }
    },
    {
      "cell_type": "markdown",
      "source": [
        "3. How many duplicate elements can you have in a set? [0]"
      ],
      "metadata": {
        "id": "DrEKgYkXsal8"
      }
    },
    {
      "cell_type": "markdown",
      "source": [
        "4. Consider the following Python dictionary:\n",
        "\n",
        "Dict={\"A\":1,\"B\":\"2\",\"C\":[3,3,3],\"D\":(4,4,4),'E':5,'F':6}\n",
        "\n",
        "What is the result of the following operation: Dict[\"D\"]?"
      ],
      "metadata": {
        "id": "3-KSJixfsahs"
      }
    },
    {
      "cell_type": "code",
      "source": [
        "Dict={\"A\":1,\"B\":\"2\",\"C\":[3,3,3],\"D\":(4,4,4),'E':5,'F':6}\n",
        "Dict[\"D\"]"
      ],
      "metadata": {
        "colab": {
          "base_uri": "https://localhost:8080/"
        },
        "id": "qqK-X1X_sbY7",
        "outputId": "6ab1c859-5de0-4ee6-d092-f72cb81980b8"
      },
      "execution_count": null,
      "outputs": [
        {
          "output_type": "execute_result",
          "data": {
            "text/plain": [
              "(4, 4, 4)"
            ]
          },
          "metadata": {},
          "execution_count": 6
        }
      ]
    },
    {
      "cell_type": "markdown",
      "source": [
        "5. What is an important difference between lists and tuples? [Lists are mutable, tuples are not.]"
      ],
      "metadata": {
        "id": "7miOR785soIF"
      }
    },
    {
      "cell_type": "markdown",
      "source": [
        "# Module 3 - Python Programming Fundamentals "
      ],
      "metadata": {
        "id": "7TCgihYvsu7D"
      }
    },
    {
      "cell_type": "markdown",
      "source": [
        "**Learning Objectives**\n",
        "\n",
        "In this lesson you will learn about:\n",
        "* Conditions and Branching\n",
        "* Loops\n",
        "* Functions\n",
        "* Objects and Classes"
      ],
      "metadata": {
        "id": "rsrGWGSAs6oG"
      }
    },
    {
      "cell_type": "markdown",
      "source": [
        "\n",
        "\n",
        "---\n",
        "\n",
        "\n",
        "**Conditions and Branching (10:14)**\n",
        "\n",
        "http://videos.bigdatauniversity.com/PY0101EN/videos/PY0101EN%20-%20Conditions%20and%20Branching.mp4"
      ],
      "metadata": {
        "id": "coP-5PbHtAdV"
      }
    },
    {
      "cell_type": "markdown",
      "source": [
        "In this video you will learn about Conditions and Branching.\n",
        "Comparison operations compare some value or operand, then, based on some condition they\n",
        "produce a Boolean.\n",
        "Let's say we assign \"a\" value of “a” to 6.\n",
        "We can use the equality operator denoted with two equal signs to determine if two values\n",
        "are equal, in this case, if seven is equal to 6.\n",
        "In this case, as six is not equal to 7, the result is false.\n",
        "If we performed an equality test for the value 6, the two values would be equal.\n",
        "As a result, we would get a true.\n",
        "Consider the following equality comparison operator.\n",
        "If the value of the left operand, in this case, the variable “i” is greater than\n",
        "the value of the right operand, in this case, 5, the condition becomes true, or else we\n",
        "get a false.\n",
        "Let's display some values for \"i\" on the left.\n",
        "Let’s see the values greater than 5 in green and the rest in red.\n",
        "If we set \"i\" equal to 6, we see that 6 is larger than 5, and as a result, we get a true.\n",
        "We can also apply the same operations to floats.\n",
        "If we modify the operator as follows, if the left operand “i” is greater than or equal\n",
        "to the value of the right operand, in this case, 5, then the condition becomes true.\n",
        "In this case, we include the value of 5 in the number line and the color changes to green\n",
        "accordingly.\n",
        "If we set the value of \"i\" equal to 5, the operand will produce a true.\n",
        "If we set the value of “i” to 2, we would get a false because 2 is less than 5.\n",
        "We can change the inequality, if the value of the left operand, in this case, “i”\n",
        "is less than the value of right operand, in this case, 6, then condition becomes true.\n",
        "Again, we can represent this with a colored number line.\n",
        "The areas where the inequality is true are marked in green and red where the inequality\n",
        "is false.\n",
        "If the value for \"i\" is set to 2, the result is a true, as 2 is less than 6.\n",
        "The inequality test uses an explanation mark preceding the equal sign, if two operands\n",
        "are not equal, then the condition becomes true.\n",
        "We can use a number line.\n",
        "When the condition is true the corresponding numbers are marked in green and red for where\n",
        "the condition is false.\n",
        "If we set “I” equal to 2, the operator is true as 2 is not equal to 6.\n",
        "We compare strings as well.\n",
        "Comparing “AC/DC” and “Michael Jackson” using the equality test, we get a false, as\n",
        "the strings are not the same.\n",
        "Using the inequality test, we get a true, as the strings are different.\n",
        "See the labs for more examples.\n",
        "Branching allows us to run different statements for a different input.\n",
        "It's helpful to think of an “if statement” as a locked room:\n",
        "If the statement is true, you can enter the room, and your program can run some predefined\n",
        "task.\n",
        "If the statement is false, your program will skip the task.\n",
        "For example, consider the blue rectangle representing an ACDC concert.\n",
        "If the individual is 18 or older, they can enter the ACDC concert.\n",
        "If they are under the age of 18, they cannot enter the concert.\n",
        "Individual proceeds to the concert, their age is 17, therefore they are not granted\n",
        "access to the concert, and they must move on.\n",
        "If the individual is 19, the condition is true, they can enter the concert; then they\n",
        "can move on.\n",
        "This is the syntax of the if statement from our previous example.\n",
        "We have the if statement. We have the expression that can be true or\n",
        "false, the brackets are not necessary.\n",
        "We have a colon.\n",
        "Within an indent, we have the expression that is run if the condition is true.\n",
        "The statements after the if statement will run regardless if the condition is true or\n",
        "false.\n",
        "For the case where the age is 17, we set the value of the variable age to 17.\n",
        "We check the if statement; the statement is false, therefore the program will not execute\n",
        "the statement to print \"you will enter.\"\n",
        "In this case, it will just print “move on.”\n",
        "For the case where the age is 19, we set the value of the variable age to 19.\n",
        "We check the if statement.\n",
        "The statement is true, therefore, the program will execute the statement to print “you\n",
        "will enter.”\n",
        "Then it will just print “move on.”\n",
        "The “else statement” will run a different block of code, if the same condition is false.\n",
        "Let’s use the ACDC concert analogy again; if the user is 17, they cannot go to the ACDC\n",
        "concert, but they can go to the Meat Loaf concert represented by the purple square.\n",
        "If the individual is 19, the condition is true.\n",
        "They can enter the ACDC concert, then they can move on as before.\n",
        "The syntax of the else statement is similar.\n",
        "We simply append the statement else.\n",
        "We then add the expression we would like to execute with an indent.\n",
        "For the case where the age is 17, we set the value of the variable age to 17.\n",
        "We check the if statement.\n",
        "The statement is false, therefore, we progress to the else statement.\n",
        "We run the statement in the indent.\n",
        "This corresponds to the individual attending the Meat Loaf concert.\n",
        "The program will then continue running.\n",
        "For the case where the age is 19, we set the value of the variable age to 19.\n",
        "We check the if statement.\n",
        "The statement is true, therefore, the program will execute the statement to print “you\n",
        "will enter.”\n",
        "The program skips the expressions in the else statement and continues to run the rest of\n",
        "the expressions.\n",
        "The elif statement, short for “else if,” allows us to check additional conditions,\n",
        "if the proceeding condition is false.\n",
        "If the condition is true, the alternate expressions will be run.\n",
        "Consider the concert example, if the individual is 18, they will go to the Pink Floyd concert,\n",
        "instead of attending the ACDC or Meat Loaf concert.\n",
        "The person of 18 years of age enters the area as they are not over 19 years of age.\n",
        "They cannot see ACDC, but as they are 18 years, they attend Pink Floyd.\n",
        "After seeing Pink Floyd, they move on.\n",
        "The syntax of the “elseif statement” is similar.\n",
        "We simply add the statement elseif with the condition.\n",
        "We then add the expression we would like to execute if the statement is true, with an\n",
        "indent.\n",
        "Let's illustrate the code on the left.\n",
        "An 18-year-old enters.\n",
        "They are not older than 18 years of age, therefore the condition is false, so the condition of\n",
        "the else if statement is checked.\n",
        "The condition is true, so then we would print “go see Pink Floyd.“\n",
        "Then we would move on, as before.\n",
        "If the variable age was 17, the statement “go see Meat Loaf” would print.\n",
        "Similarly, if the age was greater than 18, the statement “you can enter” would print.\n",
        "Check the labs for more examples.\n",
        "Now let’s take a look at logic operators.\n",
        "Logic operations take Boolean values and produce different Boolean values.\n",
        "The first operation is the not operator.\n",
        "If the input is true, the result is a false.\n",
        "Similarly, if the input is false, the result is a true.\n",
        "Let A and B represent Boolean variables.\n",
        "The “or” operator takes in the two values, and produces a new Boolean value.\n",
        "We can use this table to represent the different values.\n",
        "The first column represents the possible values of A.\n",
        "The second column represents the possible values of B.\n",
        "The final column represents the result of applying the \"or\" operation.\n",
        "We see the \"or\" operator only produces a false if all the Boolean values are false.\n",
        "The following lines of code will print out: “This album was made in the 70's or 90's”\n",
        "if the variable album year does not fall in the 80s.\n",
        "Let's see what happens when we set the album year to 1990.\n",
        "The colored number line is green when the condition is true and red when the condition\n",
        "is false.\n",
        "In this case, the condition is true.\n",
        "Examining the second condition, we see that 1990 is greater than 1989, so the condition\n",
        "is also true.\n",
        "We can verify by examining the corresponding second number line.\n",
        "In the final number line, the green region indicates where the area is true.\n",
        "This region corresponds to where at least one statement is true.\n",
        "We see that 1990 falls in the area.\n",
        "Therefore we execute the statement.\n",
        "Let A and B represent Boolean variables the \"and\" operator takes in the two values,\n",
        "and produces a new Boolean value.\n",
        "We can use this table to represent the different values.\n",
        "The first column represents the possible values of A.\n",
        "The second column represents the possible values of B.\n",
        "The final column represents the result of applying the \"and\" operation.\n",
        "We see the \"or\" operator only produces a true if all the Boolean values are true.\n",
        "The following lines of code will print out: “This album was made in the 80’s” if\n",
        "the variable album year is between 1980 and 1989.\n",
        "Let's see what happens when we set the album year to 1983.\n",
        "As before, we can use the colored number line to examine where the condition is true.\n",
        "In this case, 1983 is larger than 1980, so the condition is true.\n",
        "Examining the second condition, we see that 1990 is greater than 1983 so this condition\n",
        "is also true.\n",
        "We can verify by examining the corresponding second number line.\n",
        "In the final number line, the green region indicates where the area is true.\n",
        "Similarly, this region corresponds to where both statements are true.\n",
        "We see that 1983 falls in the area.\n",
        "Therefore we execute the statement.\n",
        "Branching allows us to run different statements for different inputs.\n"
      ],
      "metadata": {
        "id": "J2fc9QEgtF7i"
      }
    },
    {
      "cell_type": "markdown",
      "source": [
        "**Lab - Conditions and Branching**"
      ],
      "metadata": {
        "id": "mBJ14O3WuMRN"
      }
    },
    {
      "cell_type": "markdown",
      "source": [
        "\n",
        "\n",
        "---\n",
        "\n",
        "**Loops (6:40)**"
      ],
      "metadata": {
        "id": "4PAG-D2SuMLu"
      }
    },
    {
      "cell_type": "markdown",
      "source": [
        "In this video we will cover Loops, in particular “for loops” and “while loops.”\n",
        "We will use many visual examples in this video. See the labs for examples with data.\n",
        "Before we talk about loops, let’s go over the range function.\n",
        "The range function outputs an ordered sequence as a list “i”.\n",
        "If the input is a positive integer, the output is a sequence; the sequence contains the same\n",
        "number of elements as the input, but starts at zero.\n",
        "For example, if the input is 3 the output is the sequence 0,1,2.\n",
        "If the range function has two inputs where the first input is larger than the second\n",
        "input, the output is a sequence that starts at the first input.\n",
        "Then the sequence iterates up to, but not including the second number.\n",
        "For the input 10 and 15, we get the following sequence. See the labs for more capabilities\n",
        "of the range function. Please note: if you use Python 3, the range\n",
        "function will not generate a list explicitly like in Python 2.\n",
        "In this section, we will cover “for loops”. We will focus on lists, but many of the procedures\n",
        "can be used on tuples. Loops perform a task over and over.\n",
        "Consider the group of colored squares. Let's say we would like to replace each colored\n",
        "square with a white square. Let's give each square a number to make things\n",
        "a little easier and refer to all the group of squares as squares.\n",
        "If we wanted to tell someone to replace square 0 with a white square, we would say, “=Replace\n",
        "square 0 with a white square” or we can say, “For square 0 in squares, square 0=\n",
        "white square.” Similarly, for the next square, we can say,\n",
        "“For square 1 in squares, square 1 = white square.”\n",
        "For the next square, we can say, “For square 2 in squares, square 2= white square.”\n",
        "We repeat the process for each square. The only thing that changes is the index of\n",
        "the square we are referring to. If we are going to perform a similar task\n",
        "in Python, we cannot use actual squares. So let's use a list to represent the boxes.\n",
        "Each element in the list is a string representing the color.\n",
        "We want to change the name of the color in each element to white.\n",
        "Each element in the list has the following index.\n",
        "This is the syntax to perform a loop in Python. Notice the indent.\n",
        "The range function generates a list. The code will simply repeat everything in\n",
        "the indent 5 times. If you were to change the value to 6, it would\n",
        "do it 6 times, however, the value of “i” is incremented by one each time.\n",
        "In this segment we change the i-th element of the list to the string white.\n",
        "The value of “i” is set to zero. Each iteration of the loop starts at the beginning\n",
        "of the indent. We then run everything in the indent.\n",
        "The first element in the list is set to white. We then go to the start of the indent.\n",
        "We progress down each line. When we reach the line to change the value\n",
        "of the list, we set the value of index 1 to white.\n",
        "The value of “i” increases by one. We repeat the process for index 2.\n",
        "The process continues for the next index until we have reached the final element.\n",
        "We can also iterate through a list or tuple directly in Python, we do not even need to\n",
        "use indexes. Here is the list squares. Each iteration of\n",
        "the list we pass one element of the list squares to the variable square.\n",
        "Let's display the value of the variable square on this section.\n",
        "For the first iteration, the value of square is red.\n",
        "We then start the second iteration. For the second iteration, the value of square is yellow.\n",
        "We then start the third iteration. For the final iteration, the value of square is green.\n",
        "A useful function for iterating data is enumerate. It can be used to obtain the index and the\n",
        "element in the list. Let's use the box analogy, with the numbers\n",
        "representing the index of each square. This is the syntax to iterate through a list\n",
        "to provide the index of each element. We use the list squares and use the names\n",
        "of the colors to represent the colored squares. The argument of the function enumerate is\n",
        "the list, in this case, squares. The variable \"i\" is the index, and the variable\n",
        "square is the corresponding element in the list.\n",
        "Let's use the left part of the screen to display the different values of the variable square,\n",
        "and \"i\" for the various iterations of the loop. For the first iteration, the value of the\n",
        "variable is red, corresponding to the zeroth index, and the value for “i” is zero.\n",
        "For the second iteration, the value of the variable square is yellow and the value of\n",
        "\"i\" corresponds to its index, i.e., 1. We repeat the process for the last index.\n",
        "“While loops” are similar to “for loops”, but instead of executing a statement a set\n",
        "number of times, a while loop will only run if a condition is met.\n",
        "Let’s say we would like to copy all the orange squares from the list squares to the\n",
        "list new squares, but we would like to stop if we encounter a non-orange square.\n",
        "We don't know the value of the squares beforehand. We would simply continue the process while\n",
        "the square is orange, or see if the square equals orange; if not, we would stop.\n",
        "For the first example, we would check if the square was orange.\n",
        "It satisfies the condition, so we would copy the square.\n",
        "We repeat the process for the second square. The condition is met, so we copy the square.\n",
        "In the next iteration, we encounter a purple square.\n",
        "The condition is not met so we stop the process. This is essentially what a “while loop”\n",
        "does. Let's use the figure on the left to represent\n",
        "the code. We will use a list with the names of the color\n",
        "to represent the different squares. We create an empty list of “New Squares.”\n",
        "In reality, the list is of indeterminate size. We start the index at zero.\n",
        "The “while” statement will repeatedly execute the statements within the indent until\n",
        "the condition inside the bracket is false. We append the value of the first element of\n",
        "the list squares to the list \"New Squares.\" We increase the value of “i” by one.\n",
        "We append the value of the second element of the list squares to the list \"New Squares.“\n",
        "We increment the value of “i”. Now the value in the array “Squares” is\n",
        "purple. Therefore, the condition for the “while”\n",
        "statement is false and we exit the loop. Check out the labs for more examples of loop,\n",
        "many with real data.\n"
      ],
      "metadata": {
        "id": "E21s38zKuVOy"
      }
    },
    {
      "cell_type": "markdown",
      "source": [
        "**Lab - Loops**"
      ],
      "metadata": {
        "id": "3G_Ey2mruYDm"
      }
    },
    {
      "cell_type": "markdown",
      "source": [
        "\n",
        "\n",
        "---\n",
        "\n",
        "\n",
        "Functions (13:28)\n",
        "\n",
        "http://videos.bigdatauniversity.com/PY0101EN/videos/PY0101EN%20-%20Functions.mp4"
      ],
      "metadata": {
        "id": "J-jWsgOjvYZC"
      }
    },
    {
      "cell_type": "markdown",
      "source": [
        "In this video we will cover functions. You will learn how to use some of Python’s built-in\n",
        "functions as well as how to build your own functions.\n",
        "Functions take some input then produce some output or change.\n",
        "The function is just a piece of code you can reuse.\n",
        "You can implement your own function, but in many cases, you use other people’s functions.\n",
        "In this case, you just have to know how the function works and in some cases how to import\n",
        "the functions. Let the orange and yellow squares represent\n",
        "similar blocks of code. We can run the code using some input and get\n",
        "an output. If we define a function to do the task we\n",
        "just have to call the function. Let the small squares represent the lines\n",
        "of code used to call the function. We can replace these long lines of code by\n",
        "just calling the function a few times. Now we can just call the function; our code\n",
        "is much shorter. The code performs the same task.\n",
        "You can think of the process like this: when we call the function f1, we pass an input\n",
        "to the function. These values are passed to all those lines of code you wrote.\n",
        "This returns a value; you can use the value. For example, you can input this value to a\n",
        "new function f2. When we call this new function f2, the value\n",
        "is passed to another set of lines of code. The function returns a value.\n",
        "The process is repeated passing the values to the function you call.\n",
        "You can save these functions and reuse them, or use other people’s functions.\n",
        "Python has many built-in functions; you don't have to know how those functions work internally,\n",
        "but simply what task those functions perform. The function len takes in an input of type\n",
        "sequence, such as a string or list, or type collection, such as a dictionary or set, and\n",
        "returns the length of that sequence or collection. Consider the following list.\n",
        "The len function takes this list as an argument, and we assign the result to the variable L.\n",
        "The function determines there are 8 items in the list, then returns the length of the\n",
        "list, in this case, 8. The function sum takes in an iterable like\n",
        "a tuple or list and returns the total of all the elements.\n",
        "Consider the following list. We pass the list into the sum function and\n",
        "assign the result to the variable S. The function determines the total of all the\n",
        "elements, then returns it, in this case, the value is 70.\n",
        "There are two ways to sort a list. The first is using the function sorted.\n",
        "We can also use the list method sort. Methods are similar to functions.\n",
        "Let's use this as an example to illustrate the difference.\n",
        "The function sorted Returns a new sorted list or tuple.\n",
        "Consider the list album ratings. We can apply the function sorted to the list\n",
        "album ratings and get a new list sorted album rating.\n",
        "The result is a new sorted list. If we look at the list album ratings, nothing\n",
        "has changed. Generally, functions take an input, in this\n",
        "case, a list. They produce a new output, in this instance, a sorted list.\n",
        "If we use the method sort, the list album ratings will change and no new list will be\n",
        "created. Let's use this diagram to help illustrate\n",
        "the process. In this case, the rectangle represents the\n",
        "list album ratings. When we apply the method sort to the list,\n",
        "the list album rating changes. Unlike the previous case, we see that the\n",
        "list album rating has changed. In this case, no new list is created.\n",
        "Now that we have gone over how to use functions in Python, let’s see how to build our own\n",
        "functions. We will now get you started on building your\n",
        "own functions in python. This is an example of a function in python\n",
        "that returns its input value + 1. To define a function, we start with the keyword\n",
        "def. The name of the function should be descriptive\n",
        "of what it does. We have the function formal parameter \"A\"\n",
        "in parentheses. Followed by a colon.\n",
        "We have a code block with an indent, for this case, we add 1 to \"A\" and assign it to B.\n",
        "We return or output the value for b. After we define the function, we can call\n",
        "it. The function will add 1 to 5 and return a 6. We can call the function again; this time\n",
        "assign it to the variable \"c\" The value for 'c' is 11.\n",
        "Let's explore this further. Let's go over an example when you call a function.\n",
        "It should be noted that this is a simplified model of Python, and Python does not work\n",
        "like this under the hood. We call the function giving it an input, 5.\n",
        "It helps to think of the value of 5 as being passed to the function.\n",
        "Now the sequences of commands are run, the value of \"A\" is 5.\n",
        "\"B\" would be assigned a value of 6. We then return the value of b, in this case,\n",
        "as b was assigned a value of 6, the function returns a 6.\n",
        "If we call the function again, the process starts from scratch; we pass in an 8.\n",
        "The subsequent operations are performed. Everything that happened in the last call\n",
        "will happen again with a different value of \"A\"\n",
        "The function returns a value, in this case, 9.\n",
        "Again, this is just a helpful analogy. Let’s try and make this function more complex.\n",
        "It's customary to document the function on the first few lines; this tells anyone who\n",
        "uses the function what it does. This documentation is surrounded in triple\n",
        "quotes. You can use the help command on the function\n",
        "to display the documentation as follows. This will printout the function name and the\n",
        "documentation. We will not include the documentation in the\n",
        "rest of the examples. A function can have multiple parameters.\n",
        "The function mult multiplies two numbers; in other words, it finds their product.\n",
        "If we pass the integers 2 and 3, the result is a new integer.\n",
        "If we pass the integer 10 and the float 3.14, the result is a float 31.4.\n",
        "If we pass in the integer two and the string “Michael Jackson,” the string Michael\n",
        "Jackson is repeated two times. This is because the multiplication symbol\n",
        "can also mean repeat a sequence. If you accidentally multiply an integer and\n",
        "a String instead of two integers, you won’t get an error.\n",
        "Instead, you will get a String, and your program will progress, potentially failing later because\n",
        "you have a String where you expected an integer. This property will make coding simpler, but\n",
        "you must test your code more thoroughly. In many cases a function does not have a return\n",
        "statement. In these cases, Python will return the special\n",
        "“None” object. Practically speaking, if your function has\n",
        "no return statement, you can treat it as if the function returns nothing at all.\n",
        "The function MJ simply prints the name 'Michael Jackson’.\n",
        "We call the function. The function prints “Michael Jackson.”\n",
        "Let's define the function “No work” that performs no task.\n",
        "Python doesn’t allow a function to have an empty body, so we can use the keyword pass,\n",
        "which doesn’t do anything, but satisfies the requirement of a non-empty body.\n",
        "If we call the function and print it out, the function returns a None.\n",
        "In the background, if the return statement is not called, Python will automatically return\n",
        "a None. It is helpful to view the function No Work\n",
        "with the following return statement. Usually, functions perform more than one task.\n",
        "This function prints a statement then returns a value.\n",
        "Let's use this table to represent the different values as the function is called.\n",
        "We call the function with an input of 2. We find the value of b.\n",
        "The function prints the statement with the values of a and b.\n",
        "Finally, the function returns the value of b, in this case, 3.\n",
        "We can use loops in functions. This function prints out the values and indexes\n",
        "of a loop or tuple. We call the function with the list album ratings\n",
        "as an input. Let's display the list on the right with its\n",
        "corresponding index. Stuff is used as an input to the function\n",
        "enumerate. This operation will pass the index to i and\n",
        "the value in the list to “s”. The function would begin to iterate through\n",
        "the loop. The function will print the first index and\n",
        "the first value in the list. We continue iterating through the loop.\n",
        "The values of i and s are updated. The print statement is reached.\n",
        "Similarly, the next values of the list and index are printed.\n",
        "The process is repeated. The values of i and s are updated.\n",
        "We continue iterating until the final values in the list are printed out.\n",
        "Variadic parameters allow us to input a variable number of elements.\n",
        "Consider the following function; the function has an asterisk on the parameter names.\n",
        "When we call the function, three parameters are packed into the tuple names.\n",
        "We then iterate through the loop; the values are printed out accordingly.\n",
        "If we call the same function with only two parameters as inputs, the variable names only\n",
        "contain two elements. The result is only two values are printed\n",
        "out. The scope of a variable is the part of the\n",
        "program where that variable is accessible. Variables that are defined outside of any\n",
        "function are said to be within the global scope, meaning they can be accessed anywhere\n",
        "after they are defined. Here we have a function that adds the string\n",
        "DC to the parameter x. When we reach the part where the value of\n",
        "x is set to AC, this is within the global scope, meaning x is accessible anywhere after\n",
        "it is defined. A variable defined in the global scope is\n",
        "called a global variable. When we call the function, we enter a new\n",
        "scope or the scope of AddDC. We pass as an argument to the AddDC function,\n",
        "in this case, AC. Within the scope of the function, the value\n",
        "of x is set to ACDC. The function returns the value and is assigned\n",
        "to z. Within the global scope, the value z is set\n",
        "to ACDC After the value is returned, the scope of\n",
        "the function is deleted. Local variables only exist within the scope\n",
        "of a function. Consider the function thriller; the local\n",
        "variable Date is set to 1982. When we call the function, we create a new\n",
        "scope. Within that scope of the function, the value\n",
        "of the date is set to 1982. The value of date does not exist within the\n",
        "global scope. Variables inside the global scope can have\n",
        "the same name as variables in the local scope with no conflict.\n",
        "Consider the function thriller; the local variable Date is set to 1982.\n",
        "The global variable date is set to 2017. When we call the function, we create a new\n",
        "scope. Within that scope, the value of the date is\n",
        "set to 1982. If we call the function, it returns the value\n",
        "of Date in the local scope, in this case, 1982.\n",
        "(click6) When we print in the global scope, we use the global variable value.\n",
        "The global value of the variable is 2017. Therefore, the value is set to 2017.\n",
        "If a variable is not defined within a function, Python will check the global scope.\n",
        "Consider the function \"AC-DC“. The function has the variable rating, with no value assigned.\n",
        "If we define the variable rating in the global scope, then call the function, Python will\n",
        "see there is no value for the variable Rating. As a result, python will leave the scope and\n",
        "check if the variable Ratings exists in the global scope. It will use this value of Ratings\n",
        "in the global scope within the scope of \"AC-DC“. In the function, will print out a 9.\n",
        "The value of z in the global scope will be 10, as we added one.\n",
        "The value of rating will be unchanged within the global scope.\n",
        "Consider the function Pink Floyd. If we define the variable Claimed Sales with\n",
        "the keyword global, the variable will be a global variable.\n",
        "We call the function Pink Floyd. The variable claimed sales is set to the string\n",
        "“45 million” in the global scope. When we print the variable, we get a value\n",
        "of “45 million.” There is a lot more you can do with functions.\n",
        "Check out the lab for more examples.\n"
      ],
      "metadata": {
        "id": "LIAwDt2jvdIq"
      }
    },
    {
      "cell_type": "markdown",
      "source": [
        "**Labs - Functions**"
      ],
      "metadata": {
        "id": "PIHkotsCvf3Q"
      }
    },
    {
      "cell_type": "markdown",
      "source": [
        "\n",
        "\n",
        "---\n",
        "\n",
        "\n",
        "Objects and Classes (10:47)\n",
        "\n",
        "http://videos.bigdatauniversity.com/PY0101EN/videos/PY0101EN%20-%20Objects%20and%20Classes.mp4"
      ],
      "metadata": {
        "id": "RXNwm-E9v5Gi"
      }
    },
    {
      "cell_type": "markdown",
      "source": [
        "In this module, we are going to talk about objects and classes.\n",
        "Python has many different kinds of data types: Integers, Floats, Strings, Lists, Dictionaries,\n",
        "Booleans. In Python each is an object.\n",
        "Every object has the following: a type, internal representation, a set of functions called\n",
        "methods to interact with the data. An object is an instance of a particular type.\n",
        "For example, we have two types: type one and type two.\n",
        "We can have several objects of type one as shown in yellow. Each object is an instance\n",
        "of type one. We also have several objects of type two shown\n",
        "in green. Each object is an instance of type two.\n",
        "Let’s do several less abstract examples. Every time we create an Integer, we are creating\n",
        "an instance of type integer, or we are creating an integer object.\n",
        "In this case, we are creating five instances of type integer or five integer objects.\n",
        "Similarly, every time we create a list, we are creating an instance of type list, or\n",
        "we are creating a list object. In this case, we are creating five instances\n",
        "of type list or five list objects. We can find out the type of an object by using\n",
        "the type command. In this case, we have an object of type list.\n",
        "We have an object of type integer. We have an object of type string.\n",
        "Finally, we have an object of type dictionary. A class or type’s methods are functions\n",
        "that every instance of that class or type provides.\n",
        "It’s how you interact with the object. We have been using methods all this time,\n",
        "for example, on lists. Sorting is an example of a method that interacts\n",
        "with the data in the object. Consider the list Ratings.\n",
        "The data is a series of numbers contained within the list.\n",
        "The method sort will change the data within the object\n",
        "We call the method by adding a period at the end of the object’s name and the method’s\n",
        "name we would like to call with parenthesis. We have the ratings list represented in orange.\n",
        "The data contained in the list is a sequence of numbers.\n",
        "We call the sort method. This changes the data contained in the object.\n",
        "You can say it changes the state of the object. We can call the reverse method on the list,\n",
        "changing the list again. We call the method, reversing the order of\n",
        "the sequence within the object. In many cases, you don't have to know the\n",
        "inner workings of the class and its methods. You just have to know how to use them.\n",
        "Next we will cover how to construct your own classes.\n",
        "You can create your own type or class in Python. In this section, you will create a class.\n",
        "The class has data attributes. The class has methods.\n",
        "We then create an instances or instances of that class or objects.\n",
        "The class data attributes define the class. Let's create two classes; the first class\n",
        "will be a circle, the second will be a rectangle. Let's think about what constitutes a circle.\n",
        "Examining this image all we need is a radius to define a circle and let's add color to\n",
        "make it easier to distinguish between different instances of the class later.\n",
        "Therefore, our class data attributes are radius and color.\n",
        "Similarly, examining the image in order to define a rectangle, we need the height and\n",
        "width. We will also add color to distinguish between\n",
        "instances later. Therefore, the data attributes are color,\n",
        "height, and width. To create the class circle, you will need\n",
        "to include the class definition. This tells Python you are creating your own\n",
        "class, the name of the class. For this course in parenthesis, you will always\n",
        "place the term object. This is the parent of the class.\n",
        "For the class rectangle, we change the name of the class, but the rest is kept the same.\n",
        "Classes are outlines we have to set the attributes to create objects.\n",
        "We can create an object that is an instance of type circle.\n",
        "The color data attribute is red and the data attribute radius is four.\n",
        "We can also create a second object that is an instance of type circle.\n",
        "In this case, the color data attribute is green and the data attribute radius is two.\n",
        "We can also create an object that is an instance of type rectangle.\n",
        "The color data attribute is blue and the data attribute of height and width is 2.\n",
        "The second object is also an instance of type rectangle; in this case, the color data attribute\n",
        "is yellow, and the height is one, and the width is three.\n",
        "We now have different objects of class circle or type circle.\n",
        "We also have different objects of class rectangle or type rectangle.\n",
        "Let us continue building the circle class in Python.\n",
        "We define our class. We then initialize each instance of the class\n",
        "with data attributes radius and color using the class constructor.\n",
        "The function \"in-it\" is a constructor. It’s a special function that tells Python you are\n",
        "making a new class. There are other special functions in Python\n",
        "to make more complex classes. The ‘radius’ and ‘color’ parameters\n",
        "are used to initialize the radius and color data attributes of the class instance.\n",
        "The ’self’ parameter refers to the newly created instance of the class.\n",
        "The parameters ’radius’ and ’color’ can be used in the constructor’s body to\n",
        "access the values passed to the class constructor when the class is constructed.\n",
        "We can set the value of the radius and color data attributes to the values passed to the\n",
        "constructor method. Similarly, we can define the class rectangle\n",
        "in Python. The name of the class is different.\n",
        "This time the class data attributes are color, height and width.\n",
        "After we have created the class, in order to create an object of class circle, we introduce\n",
        "a variable; this will be the name of the object. We create the object by using the object constructor.\n",
        "The object constructor consists of the name of the class, as well as the parameters.\n",
        "These are the data attributes. When we create a Circle object we call the\n",
        "code like a function. The arguments passed to the Circle constructor\n",
        "are used to initialize the data attributes of the newly created Circle instance.\n",
        "It is helpful to think of self as a box that contains all the data attributes of the object.\n",
        "Typing the object's name followed by a dot and the data attribute name gives us the data\n",
        "attribute value, for example radius. In this case, the radius is ten.\n",
        "We can do the same for color. We can see the relationship between the self\n",
        "parameter and the object. In Python, we can also set or change the data\n",
        "attribute directly. Typing the object's name, followed by a dot\n",
        "and the data attribute name, and set it equal to the corresponding value.\n",
        "We can verify that the color data attribute has changed.\n",
        "Usually, in order to change the data in an object we define methods in the class.\n",
        "Let’s discuss methods. We have seen how data attributes consist of\n",
        "the data defining the objects. Methods are functions that interact and change\n",
        "the data attributes, changing or using the data attributes of the object.\n",
        "Let's say we would like to change the size of a circle; this involves changing the radius\n",
        "attribute. We add a method \"add radius\" to the class\n",
        "Circle. The method is a function that requires the\n",
        "self as well as other parameters. In this case, we are going to add a value\n",
        "to the radius; we denote that value as r. We are going to add r to the data attribute\n",
        "radius. Let's see how this part of the code works\n",
        "when we create an object and call the add radius method.\n",
        "As before, we create an object with the object constructor.\n",
        "We pass 2 arguments to the constructor; the radius is set to 2 and the color is set to\n",
        "red. In the constructor’s body, the data attributes\n",
        "are set. We can use the box analogy to see the current\n",
        "state of the object. We call the method by adding a dot followed\n",
        "by the method name and parenthesis. In this case, the argument of the function\n",
        "is the amount we would like to add. We do not need to worry about the self-parameter\n",
        "when calling the method—just like with the constructor, Python will take care of that\n",
        "for us. In many cases, there may not be any parameters\n",
        "(other than self) specified in the method’s definition, so we don’t pass any arguments\n",
        "when calling the function. Internally, the method is called with a value\n",
        "of 8 and the proper self object. The method assigns a new value to self.radius.\n",
        "This changes the object; in particular, the radius data attribute.\n",
        "When we call the add radius method, this changes the object by changing the value of the radius\n",
        "data attribute. We can add default values to the parameters\n",
        "of a class’s constructor. In the labs, we also create the method called\n",
        "\"Draw Circle.” See the lab for the implementation of draw\n",
        "circle. In the labs, we can create a new object of\n",
        "type Circle using the constructor. The color will be red and the radius will\n",
        "be 3. We can access the data attribute radius.\n",
        "We can access the attribute color. Finally we can use the method “draw Circle”\n",
        "to draw the circle. Similarly, we can create a new object of type\n",
        "Circle. We can access the data attribute of radius.\n",
        "We can access the data attribute color. We can use the method “draw circle” to\n",
        "draw the circle. In summary, we have created an object of class\n",
        "Circle called \"red circle\" with a Radius attribute of 3 and a Color attribute of red.\n",
        "We also created an object of class Circle called \"blue Circle\" with a Radius attribute\n",
        "of 10 and a Color attribute of blue. In the lab, we have a similar class for rectangle.\n",
        "We can create a new object of type rectangle using the constructor. We can access a data\n",
        "attribute of Height. We can also access the data attribute of Width.\n",
        "We can do the same for the data attribute of Color.\n",
        "We can use the method “draw Rectangle” to draw the rectangle.\n",
        "So we have a class, an object that is a realization or instantiation of that class.\n",
        "For example, we can create two objects of class Circle, or two objects of class Rectangle.\n",
        "The “D I R” function is useful for obtaining the list of data attributes and methods associated\n",
        "with a class. The object you’re interested in is passed\n",
        "as an argument. The return value is a list of that object’s\n",
        "data attributes. (The attributes surrounded by underscores\n",
        "are for Internal Use and you shouldn’t have to worry about them.)\n",
        "The regular-looking attributes are the ones you should concern yourself with, these are\n",
        "the object’s methods and data attributes. There is a lot more you can do with objects\n",
        "in Python. Check python.org for more info."
      ],
      "metadata": {
        "id": "-ICFzg9Yv-sn"
      }
    },
    {
      "cell_type": "markdown",
      "source": [
        "**Lab - Objects and Classes**"
      ],
      "metadata": {
        "id": "cXk0kFFPwBT4"
      }
    },
    {
      "cell_type": "markdown",
      "source": [
        "**Lab - Exception Handling**"
      ],
      "metadata": {
        "id": "yOIq9PvIwrXA"
      }
    },
    {
      "cell_type": "markdown",
      "source": [
        "**Review Questions 3**\n",
        "\n",
        "1. What is the output of the following lines of code:\n",
        "\n",
        "> x=1 \n",
        "\n",
        "> if(x!=1):\n",
        "\n",
        ">> print('Hello')\n",
        "\n",
        ">else:\n",
        "\n",
        ">> print('Hi')\n",
        "\n",
        "> print('Mike')\n",
        ">[Hi Mike]"
      ],
      "metadata": {
        "id": "hZjzXoKiwvUY"
      }
    },
    {
      "cell_type": "markdown",
      "source": [
        "2. What is the output of the following few lines of code? \n",
        "\n",
        "> A = ['1','2','3']\n",
        "\n",
        "> for a in A:\n",
        "\n",
        "> > print(2*a)"
      ],
      "metadata": {
        "id": "_HWT0T0lxORL"
      }
    },
    {
      "cell_type": "code",
      "source": [
        "A = ['1','2','3']\n",
        "\n",
        "for a in A:\n",
        "  print(2*a)"
      ],
      "metadata": {
        "colab": {
          "base_uri": "https://localhost:8080/"
        },
        "id": "MijRl4g6xsaS",
        "outputId": "b9d8302f-9edb-4e0a-bbbf-cbc5f77cc68d"
      },
      "execution_count": null,
      "outputs": [
        {
          "output_type": "stream",
          "name": "stdout",
          "text": [
            "11\n",
            "22\n",
            "33\n"
          ]
        }
      ]
    },
    {
      "cell_type": "markdown",
      "source": [
        "3. Consider the function Delta, when will the function return a value of 1 [When the input is 0.]\n",
        "\n",
        ">def Delta(x):\n",
        "\n",
        ">if x==0:\n",
        "\n",
        ">> y=1;\n",
        "\n",
        ">else:\n",
        "\n",
        ">>y=0;\n",
        "\n",
        ">return(y)"
      ],
      "metadata": {
        "id": "bvBiB0HoxyAx"
      }
    },
    {
      "cell_type": "markdown",
      "source": [
        "4. What is the correct way to sort the list 'B' using a method? The result should not return a new list, just change the list 'B'. "
      ],
      "metadata": {
        "id": "hg_f2HTGyPV1"
      }
    },
    {
      "cell_type": "code",
      "source": [
        "B = ['1','2','3', '5', '4']\n",
        "print(B.sort())"
      ],
      "metadata": {
        "colab": {
          "base_uri": "https://localhost:8080/"
        },
        "id": "DgYbeN25yUsg",
        "outputId": "c0154e13-d37b-4021-f79d-cfbae4161b9e"
      },
      "execution_count": null,
      "outputs": [
        {
          "output_type": "stream",
          "name": "stdout",
          "text": [
            "None\n"
          ]
        }
      ]
    },
    {
      "cell_type": "markdown",
      "source": [
        "5. What are the keys of the following dictionary: {'a':1,'b':2}? ['a', 'b']"
      ],
      "metadata": {
        "id": "HrlmAs5FzCmd"
      }
    },
    {
      "cell_type": "code",
      "source": [
        "D= {'a':1,'b':2}\n"
      ],
      "metadata": {
        "id": "25ZvHaSzzFFN"
      },
      "execution_count": null,
      "outputs": []
    },
    {
      "cell_type": "markdown",
      "source": [
        "# Module 4 - Working with Data in Python"
      ],
      "metadata": {
        "id": "GsT2A0lAzVXx"
      }
    },
    {
      "cell_type": "markdown",
      "source": [
        "**Learning Objectives**\n",
        "\n",
        "In this lesson you will learn about:\n",
        "* Reading files with open\n",
        "* Writing files with open\n",
        "* Loading data with Pandas\n",
        "* Working with and Saving data with Pandas"
      ],
      "metadata": {
        "id": "2pWDYasazaZl"
      }
    },
    {
      "cell_type": "markdown",
      "source": [
        "\n",
        "\n",
        "---\n",
        "\n",
        "\n",
        "**Reading Files with Open (3:39)**\n",
        "\n",
        "http://videos.bigdatauniversity.com/PY0101EN/videos/PY0101EN%20-%20Reading%20files%20with%20open.mp4"
      ],
      "metadata": {
        "id": "w08KIU0lzouv"
      }
    },
    {
      "cell_type": "markdown",
      "source": [
        "In this section we will use Python’s built-in open function to create a file object and\n",
        "obtain the data from a txt file.\n",
        "We will use Python’s open function to get a file object.\n",
        "We can apply a method to that object to read data from the file.\n",
        "We can open the file Example1 \". txt\" as follows We use the open function.\n",
        "The first argument is the file path.\n",
        "This is made up of the file name and the file directory.\n",
        "The second parameter is the mode; common values used include 'r' for reading, 'w' for writing\n",
        "and 'a' for appending.\n",
        "We will use ‘r’ for reading.\n",
        "Finally, we have the file object.\n",
        "We can now use the file object to obtain information about the file.\n",
        "We can use the data attribute name to get the name of the file.\n",
        "The result is a string that contains the name of the file.\n",
        "We can see what mode the object is in using the data attribute mode.\n",
        "An ‘r’ is shown representing read.\n",
        "You should always close the file object using the method close.\n",
        "This may get tedious sometimes, so let’s use the “with statement.”\n",
        "Using a 'with' statement to open the file is better practice because it automatically\n",
        "closes the file.\n",
        "The code will run everything in the indent block, then closes the file.\n",
        "This code reads the file Example1.txt; we can use the file object File 1.\n",
        "The code will perform all operations in the indent block then close the file at the end\n",
        "of the indent.\n",
        "The method read stores the values of the file in the variable file_stuff as a string.\n",
        "You can print the file content.\n",
        "You can check if the file content is closed, but you cannot read from it outside the indent.\n",
        "But you can print the file content outside the indent as well.\n",
        "We can print the file content.\n",
        "We will see the following.\n",
        "When we examine the raw string, we will see the slash n; this is so Python knows to start\n",
        "a new line.\n",
        "We can output every line as an element in a list using the method readlines.\n",
        "The first line corresponds to the first element in the list.\n",
        "The second line corresponds to the second element in the list, and so on.\n",
        "We can use the method readline to read the first line of the file.\n",
        "If we run this command, it will store the first line in the variable file_stuff, then\n",
        "print the first line.\n",
        "We can use the method read line twice: The first time it’s called, it will save\n",
        "the first line in the variable file_stuff and then print the first line.\n",
        "The second time it’s called it will save the second line in the variable file_stuff\n",
        "and then print the second line.\n",
        "We can use a loop to print out each line individually as follows.\n",
        "Let's represent every character in a string as a grid.\n",
        "We can specify the number of characters we would like to read from a string as an argument\n",
        "to the method readlines.\n",
        "When we use a 4 as an argument in the method readlines, we print out the first four characters\n",
        "in the file.\n",
        "Each time we call the method, we will progress through the text.\n",
        "If we call the method with the argument 16, the first 16 characters are printed out and\n",
        "then the new line.\n",
        "If we call the method a second time, the next five characters are printed out.\n",
        "Finally, if we call the method the last time with the argument 9, the last 9 characters\n",
        "are printed out.\n",
        "Check out the labs for more examples of methods and other file types.\n"
      ],
      "metadata": {
        "id": "GbM335uKzyAj"
      }
    },
    {
      "cell_type": "markdown",
      "source": [
        "**Lab - Reading Files**"
      ],
      "metadata": {
        "id": "IYAqUSWr01HY"
      }
    },
    {
      "cell_type": "markdown",
      "source": [
        "\n",
        "\n",
        "---\n",
        "\n",
        "\n",
        "**Writing Files with Open (2:50)**\n",
        "\n",
        "http://videos.bigdatauniversity.com/PY0101EN/videos/PY0101EN%20-%20Writing%20files%20with%20open.mp4"
      ],
      "metadata": {
        "id": "Q31FdKhy03Zq"
      }
    },
    {
      "cell_type": "markdown",
      "source": [
        "We can also write to files using the open function.\n",
        "We will use Python’s open function to get a file object, to create a text file, we can\n",
        "apply method write to write data to that file.\n",
        "As a result, text will be written to the file.\n",
        "We can create the file Example2\".txt\" as follows: We use the open function.\n",
        "The first argument is the file path.\n",
        "This is made up of the file name; if you have that file in your directory, it will be over\n",
        "written, and the file directory.\n",
        "We set the mode parameter to 'w' for writing.\n",
        "Finally, we have the file object.\n",
        "As before we use the \"with\" statement.\n",
        "The code will run everything in the indent block, then close the file.\n",
        "We create the file object File 1.\n",
        "We use the open function.\n",
        "This creates a file Example2.txt in your directory.\n",
        "We use the method write to write data into the file.\n",
        "The argument is the text we would like input into the file.\n",
        "If we use the write method successively, each time it’s called, it will write to the file.\n",
        "The first time it is called we will write: this is line A with a slash n to represent\n",
        "a new line.\n",
        "The second time we call the method it will write: this is line b.\n",
        "Then it will close the file.\n",
        "We can write each element in a list to a file.\n",
        "As before we use a \"with\" command and the open function to create a file.\n",
        "The list 'lines' has three elements consisting of text.\n",
        "We use a “for loop” to read each element of the list lines and pass it to the variable\n",
        "line.\n",
        "The first iteration of the loop writes the first element of the list to the file example 2.\n",
        "The second iteration writes the second element of the list, and so on.\n",
        "At the end of the loop the file will be closed.\n",
        "We can set the mode to appended using a lower case \"a\".\n",
        "This will not create a new file, but just use the existing file.\n",
        "If we call the method write, it will just write to the existing file, then add: this\n",
        "is line C. Then close the file.\n",
        "We can copy one file to a new file as follows: First, we read the file example 1 and interact\n",
        "with it via the file object \"read file“.\n",
        "Then we create a new file example 3 and use the file object \"write file\" to interact with it.\n",
        "The “for loop” takes a line from the file object read file and stores it in the file\n",
        "example 3 using the file object write file.\n",
        "The first iteration copies the first line.\n",
        "The second iteration copies the second line till the end of the file is reached, then\n",
        "both files are closed.\n",
        "Check out the labs for more examples."
      ],
      "metadata": {
        "id": "6-TU1pz_0-VG"
      }
    },
    {
      "cell_type": "markdown",
      "source": [
        "**Lab - Writing Files**"
      ],
      "metadata": {
        "id": "-rhdznBW1e1p"
      }
    },
    {
      "cell_type": "markdown",
      "source": [
        "\n",
        "\n",
        "---\n",
        "\n",
        "\n",
        "**Loading Data with Pandas (4:07)**\n",
        "\n",
        "http://videos.bigdatauniversity.com/PY0101EN/videos/PY0101EN%20-%20Loading%20data%20with%20Pandas.mp4"
      ],
      "metadata": {
        "id": "Vh56PJBl1f8A"
      }
    },
    {
      "cell_type": "markdown",
      "source": [
        "Dependencies or libraries are pre-written code to help solve problems.\n",
        "In this video, we will introduce pandas–a popular library for data analysis.\n",
        "We can import the library or a dependency like pandas using the following command.\n",
        "We start with the import command followed by the name of the library.\n",
        "We now have access to a large number of pre-built classes and functions.\n",
        "This assumes the library is installed. In our lab environment, all the necessary libraries\n",
        "are installed. Let’s say we would like to load a csv file\n",
        "using the pandas built-in function “read csv.”\n",
        "A csv is a typical file type used to store data.\n",
        "We simply type the word pandas, then a dot and the name of the function with all the\n",
        "inputs. Typing pandas all the time may get tedious.\n",
        "We can use the \"as\" statement to shorten the name of the library; in this case we use the\n",
        "standard abbreviation pd. Now we type pd and a dot followed by the name\n",
        "of the function we would like to use, in this case, read_csv.\n",
        "We are not limited to the abbreviation pd. In this case, we use the term, banana.\n",
        "We will stick with pd for the rest of this video. Let’s examine this code more in-depth.\n",
        "One way pandas allows you to work with data is with a data frame.\n",
        "Let's go over the process to go from a csv file to a data frame.\n",
        "This variable stores the path of the csv. It is used as an argument to the read_csv function.\n",
        "The result is stored to the variable df; this is short for “dataframe.\"\n",
        "Now that we have the data in a dataframe, we can work with it.\n",
        "We can use the method head to examine the first 5 rows of a dataframe.\n",
        "The process for loading an excel file is similar. We use the path of the excel file.\n",
        "The function reads excel. The result is a dataframe.\n",
        "A dataframe is comprised of rows and columns. We can create a data frame out of a dictionary.\n",
        "The keys correspond to the column labels. The values are lists corresponding to the\n",
        "rows. We then cast the dictionary to a dataframe\n",
        "using the function DataFrame. We can see the direct correspondence between\n",
        "the table. The keys correspond to the table headers.\n",
        "The values are lists corresponding to the rows.\n",
        "We can create a new dataframe consisting of one column.\n",
        "We just put the dataframe name, in this case \"df\" and the name of the column header enclosed\n",
        "in double brackets. The result is a new dataframe comprised of\n",
        "the original column. You can do the same thing for multiple columns.\n",
        "We just put the dataframe name, in this case \"df\" and the name of the multiple column headers\n",
        "enclosed in double brackets. The result is a new dataframe comprised of\n",
        "the specified columns. One way to access unique elements is the ix\n",
        "method. You can access the 1st row and first column\n",
        "as follows. You can access the 2nd row and first column\n",
        "as follows. You can access the 1st row, 3rd column as follows.\n",
        "You can access the 2nd row, 3rd column as follows. When you use the name of the column as well,\n",
        "you can access the 1st row of the column named 'Artist’ as follows.\n",
        "Similarly, you can access the 2nd row of the column named ‘Artist.’\n",
        "You can access the 1st row of the column named 'Released’ as follows.\n",
        "Finally, you can access the 2nd row of the column named 'Released.’\n",
        "You can also slice dataframes and assign the values to a new dataframe.\n",
        "We assign the first two rows and the first three columns to the variable z.\n",
        "The result is a dataframe comprised of the selected rows and columns.\n",
        "You can also slice dataframes and assign the values to a new dataframe using the column\n",
        "names. The code assigns the first three rows and\n",
        "all columns in-between to the columns named 'Artist’ and 'Released.’\n",
        "The result is a new dataframe z with the corresponding values."
      ],
      "metadata": {
        "id": "2ask3f-q1nFp"
      }
    },
    {
      "cell_type": "markdown",
      "source": [
        "\n",
        "\n",
        "---\n",
        "\n",
        "\n",
        "**Working with and Saving Data with Pandas (2:02)**\n",
        "\n",
        "http://videos.bigdatauniversity.com/PY0101EN/videos/PY0101EN%20-%20Working%20with%20and%20Saving%20data%20with%20Pandas.mp4"
      ],
      "metadata": {
        "id": "rjBlW7TsFsVc"
      }
    },
    {
      "cell_type": "markdown",
      "source": [
        "When we have a dataframe we can work with the data and save the results in other formats.\n",
        "Consider the stack of 13 blocks of different colors.\n",
        "We can see there are three unique colors.\n",
        "Let’s say you would like to find out how many unique elements are in a column of a\n",
        "dataframe.\n",
        "This may be much more difficult because instead of 13 elements you may have millions.\n",
        "pandas has the method unique to determine the unique elements in a column of a dataframe.\n",
        "Let’s say we would like to determine the unique year of the albums in the data set.\n",
        "We enter the name of the dataframe, then enter the name of the column ‘Released’ within\n",
        "brackets.\n",
        "Then we apply the method unique.\n",
        "The result is all of the unique elements in the column ‘Released.’\n",
        "Let's say we would like to create a new database consisting of songs from the 1980's and after.\n",
        "We can look at the column ‘Released’ for songs made after 1979, then select the corresponding\n",
        "columns.\n",
        "We can accomplish this within one line of code in Pandas, but let’s break up the steps.\n",
        "We can use the inequality operators for the entire dataframe in pandas.\n",
        "The result is a series of Boolean values.\n",
        "For our case, we simply specify the column ‘Released’ and the inequality for the\n",
        "albums after 1979.\n",
        "The result is a series of Boolean values.\n",
        "The result is true when the condition is true and false otherwise.\n",
        "We can select the specified columns in one line; we simply use the dataframe’s names,\n",
        "and in square brackets we place the previously mentioned inequality and assign it to the\n",
        "variable df1.\n",
        "We now have a new dataframe, where each album was released after 1979.\n",
        "We can save the new dataframe using the method to_csv.\n",
        "The argument is the name of the csv file.\n",
        "Make sure you include a dot csv extension.\n",
        "There are other functions to save the dataframe in other formats.\n"
      ],
      "metadata": {
        "id": "8WKgiyaFFwFc"
      }
    },
    {
      "cell_type": "markdown",
      "source": [
        "**Lab - Loading Data and Viewing Data**"
      ],
      "metadata": {
        "id": "92C8DdR-Fx6a"
      }
    },
    {
      "cell_type": "markdown",
      "source": [
        "**Review Questions 4**\n",
        "1. What do the following lines of code do? \n",
        "[Read the file \"Example1.txt\".]\n",
        "> with open(\"Example1.txt\",\"r\") as file1:\n",
        "\n",
        "> > FileContent=file1.readlines()\n",
        "\n",
        "> > print(FileContent)"
      ],
      "metadata": {
        "id": "kVhWOMz1HOAw"
      }
    },
    {
      "cell_type": "markdown",
      "source": [
        "2. What do the following lines of code do? [Write to the file \"Example2.txt\".]\n",
        "\n",
        "> with open(\"Example2.txt\",\"w\") as writefile:\n",
        "\n",
        "> > writefile.write(\"This is line A\\n\")\n",
        "\n",
        "> > writefile.write(\"This is line B\\n\")"
      ],
      "metadata": {
        "id": "52YlqV-hIsqL"
      }
    },
    {
      "cell_type": "markdown",
      "source": [
        "3. What do the following lines of code do? [Append the file \"Example3.txt\".]\n",
        "\n",
        "> with open(\"Example3.txt\",\"a\") as file1:\n",
        "\n",
        "> > file1.write(\"This is line C\\n\")"
      ],
      "metadata": {
        "id": "uN4t9THDI_YY"
      }
    },
    {
      "cell_type": "markdown",
      "source": [
        "4. What is the result of applying the following method df.head() to the dataframe \"df\"?\n",
        "\n",
        "[Prints the first 5 rows of the dataframe.]\n"
      ],
      "metadata": {
        "id": "fwOl7A1YJUjy"
      }
    },
    {
      "cell_type": "markdown",
      "source": [
        "# Module 5 - Working with Numpy Arrays & Simple APIs"
      ],
      "metadata": {
        "id": "OXYU3GnMJ11A"
      }
    },
    {
      "cell_type": "markdown",
      "source": [
        "**Learning Objectives**\n",
        "\n",
        "In this lesson you will learn about:\n",
        "* Explain the use of the HTTP protocol using the Requests Library method\n",
        "* Describe how the URL Request Response HTTP protocol works\n",
        "* Learn to apply simple, open-source APIs\n",
        "* Perform basic webscraping using Python\n",
        "* Work with different file formats using Python\n",
        "* Explain the difference between APIs and REST APIs\n",
        "* Summarize how APIs receive and send information"
      ],
      "metadata": {
        "id": "1gEz3-9IJ-hK"
      }
    },
    {
      "cell_type": "markdown",
      "source": [
        "\n",
        "\n",
        "---\n",
        "\n",
        "\n",
        "**Numpy 1D Arrays (11:19)**\n",
        "\n",
        "https://youtu.be/4EwRiSIo0wU"
      ],
      "metadata": {
        "id": "7Eypvj0BKOXg"
      }
    },
    {
      "cell_type": "markdown",
      "source": [
        "In this video, we will be covering Numpy in 1D, in particular \"n d arrays\". Numpy is a\n",
        "library for scientific computing. It has many useful functions. There are many other advantages\n",
        "like speed an memory. Numpy is also the basis for pandas, so check out our pandas video.\n",
        "In this video we will be covering: 1) The Basics and Array Creation 2) Indexing and\n",
        "Slicing 3) Basic Operations 4) Universal Functions Let's go over how to create a numpy array.\n",
        "A Python list is a container that allows you to store and access data. Each element is\n",
        "associated with an index. We can access each element using a square bracket, as follows.\n",
        "A \"numpy\" array or \"ndarray\" is similar to a list. It's usually fixed in size and each\n",
        "element is of the same type, in this case, integers. We can cast a list to a numpy array\n",
        "by first importing numpy. We then cast the list as follows. We can access the data via\n",
        "an index. As with a list, we can access each element with an integer and a square bracket.\n",
        "The value of 'a' is stored as follows. If we check the type of the array we get \"numpy.ndarray\".\n",
        "As numpy arrays contain data of the same type, we can use the attribute \"dtype\" to obtain\n",
        "the data type of the array’s elements. In this case a 64-bit integer.\n",
        "Let's review some basic array attributes using the array 'a'. The attribute size is the number\n",
        "of elements in the array. As there are 5 elements, the result is 5. The next two attributes will\n",
        "make more sense when we get to higher dimensions, but let's review them. The attribute \"ndim”\n",
        "represents the number of array dimensions or the rank of the array, in this case one.\n",
        "The attribute \"shape” is a tuple of integers indicating the size of the array in each dimension.\n",
        "We can create a numpy array with real numbers. When we check the type of the array, we get\n",
        "numpy.ndarray. If we examine the attribute \"dtype,\" we see float 64 as the elements are\n",
        "not integers. There are many other attributes. Check out \"numpy.org”.\n",
        "Let's review some Indexing and Slicing methods. We can change the first element of the array\n",
        "to 100, as follows. The arrays first value is now 100. We can change the 5-th element\n",
        "of the array as follows. The fifth element is now 0.\n",
        "Like lists and tuples, we can slice a numpy array. The elements of the array correspond\n",
        "to the following index. We can select the elements from 1 to 3 and assign it to a new\n",
        "numpy array 'd' as follows. The elements in 'd' correspond to the index. Like lists, we\n",
        "do not count the element corresponding to the last index.\n",
        "We can assign the corresponding indexes to new values as follows. The array 'c' now has\n",
        "new values. See the labs or numpy.org for more examples of what you can do with numpy.\n",
        "Numpy makes it easier to do many operations that are commonly performed in data science.\n",
        "These same operations are usually computationally faster and require less memory in numpy compared\n",
        "to regular Python. Let's review some of these operations on 1 dimensional arrays. We will\n",
        "look at many of the operations in the context of Euclidean vectors to make things more interesting.\n",
        "Vector addition is a widely used operation in data science. Consider the vector 'u' with\n",
        "two elements; the elements are distinguished by the different colors. Similarly, consider\n",
        "the vector 'v' with two components. In vector addition, we create a new vector in this case\n",
        "'z'. The first component of 'z' is the addition of the first component of vectors 'u' and\n",
        "'v'. Similarly, the second component is the sum of the second components of 'u' and 'v'.\n",
        "This new vector 'z' is now a linear combination of the vector 'u' and 'v'.\n",
        "Representing vector addition with line segment or arrows is helpful. The first vector is\n",
        "represented in red; the vector will point in the direction of the two components.\n",
        "The first component of the vector is one; as a result, the arrow is offset one unit from\n",
        "the origin in the horizontal direction. The second component is 0. We represent this component\n",
        "in the vertical direction, as this component is zero the vector does not point in the horizontal\n",
        "direction. We represent the second vector in blue. The first component is zero, therefore,\n",
        "the arrow does not point in the horizontal direction. The second component is one.\n",
        "As a result, the vector points in the vertical direction one unit. When we add the vector\n",
        "'u' and 'v' we get the new vector 'z'. We add the first component, this corresponds\n",
        "to the horizontal direction. We also add the second component. It's helpful to use the\n",
        "tip-to-tail method when adding vectors, placing the tail of vector 'v' on the tip of vector 'u'.\n",
        "The new vector 'z' is constructed by connecting the base of the first vector 'u'\n",
        "with the tail of the second 'v'. The following 3 lines of code will add the\n",
        "two lists and place the result in the list 'z'.\n",
        "We can also perform vector addition with one line of numpy code. It would require multiple\n",
        "lines to perform vector subtraction on two lists, as shown on the right side of the screen.\n",
        "In addition, the numpy code will run much faster. This is important if you have lots\n",
        "of data. We can also perform vector subtraction by\n",
        "changing the addition sign to a subtraction sign. It would require multiple lines to perform\n",
        "vector subtraction on two lists, as shown on the right side of the screen.\n",
        "Vector multiplication with a Scalar is another commonly performed operation. Consider the\n",
        "vector 'y', each component is specified by a different color. We simply multiply the\n",
        "vector by a scalar value, in this case, 2. Each component of the vector is multiplied\n",
        "by 2; in this case, each component is doubled. We can use the line segment or arrows to visualize\n",
        "what’s going on. The original vector y is in purple. After multiplying it by a scalar\n",
        "value of 2, the vector is stretched out by two units, as shown in red. The new vector\n",
        "is twice as long in each direction. Vector multiplication with a scalar only requires\n",
        "one line of code using Numpy. It would require multiple lines to perform the same task as\n",
        "shown with python lists, as shown on the right side of the screen. In addition, the operation\n",
        "would also be much slower. Hadamard product is another widely used operation\n",
        "in data science. Consider the following two vectors 'u' and 'v'. The Hadamard product\n",
        "of 'u' and 'v' is a new vector 'z'. The first component of 'z' is the product of the first\n",
        "element of 'u' and 'v'. Similarly, the second component is the product of the second element\n",
        "of 'u' and 'v'. The resultant vector consists of the entrywise product of 'u' and 'v'.\n",
        "We can also perform Hadamard product with 1 line of code in Numpy. It would require\n",
        "multiple lines to perform Hadamard product on two lists as shown on the right side of\n",
        "the screen. The dot product is another widely used operation\n",
        "in data science, consider the vector 'u' and 'v'. The dot product is a single number given\n",
        "by the following term and represents how similar two vectors are. We multiply the first component\n",
        "from 'v' and 'u'. We then multiply the second component and add the result together.\n",
        "The result is a number that represents how similar the two vectors are.\n",
        "We can also perform dot product using the numpy function \"dot” and assign it the variable\n",
        "\"result” as follows. Consider the array 'u'. The array contains\n",
        "the following elements. If we add a scalar value to the array, numpy will add that value\n",
        "to each element. This property is known as broadcasting.\n",
        "A universal function is a function that operates on ndarrays.\n",
        "We can apply a universal function to a Numpy array. Consider the arrays 'a'. We can calculate\n",
        "the mean or average value of all the elements in 'a' using the method \"mean”. This corresponds\n",
        "to the average of all the elements. In this case the result is zero.\n",
        "There are many other functions, for example, consider the numpy arrays 'b'. We can find\n",
        "the maximum value using the method 5. We see the largest value is 5. Therefore, the method\n",
        "max returns a 5. We can use numpy to create functions that\n",
        "map numpy arrays to new numpy arrays. Let's implement some code on the left side of the\n",
        "screen and use the right side of the screen to demonstrate what's going on. We can access\n",
        "the value of pi in Numpy as follows. We can create the following numpy array in Radians.\n",
        "This array corresponds to the following vector. We can apply the function \"sine\" to the array\n",
        "x and assign the values to the array y; this applies the sine function to each element\n",
        "in the array. This corresponds to applying the sine function to each component of the\n",
        "vector. The result is a new array y where each value corresponds to a sine function\n",
        "being applied to each element in the array x.\n",
        "A useful function for plotting mathematical functions is \"linespace\". Linespace returns\n",
        "evenly spaced numbers over a specified interval. We specify the starting point of the sequence.\n",
        "The ending point of the sequence. The parameter \"num\" indicates the Number of samples to generate,\n",
        "in this case, 5. The space between samples is 1.\n",
        "If we change the parameter num to 9, we get 9 evenly spaced numbers over the interval\n",
        "from -2 to 2. The result is the difference between subsequent samples is 0.5 as opposed\n",
        "to one as before. We can use the function linespace to generate\n",
        "100 evenly spaced samples from the interval 0 to 2 pi. We can use the Numpy function sine\n",
        "to map the array x to a new array y. We can import the library pyplot as plt to help us\n",
        "plot the function. As we are using a Jupyter notebook, we use the command \"matplotlib inline\"\n",
        "to display the plot. The following command plots a graph. The first input corresponds\n",
        "to the values for the horizontal or x-axis. The second input corresponds to the values\n",
        "for the vertical or y-axis. There is a lot more you can do with Numpy. Check out the\n",
        "labs and numpy.org for more. Thanks for watching this video.\n"
      ],
      "metadata": {
        "id": "xJ_bUPYBKYPf"
      }
    },
    {
      "cell_type": "code",
      "source": [
        "import numpy as np\n",
        "np.array([1,-1])*np.array([1,1])"
      ],
      "metadata": {
        "colab": {
          "base_uri": "https://localhost:8080/"
        },
        "id": "Z9EfR49sLmiQ",
        "outputId": "fd4c1ebc-e6ac-4214-817b-dc792c091e73"
      },
      "execution_count": null,
      "outputs": [
        {
          "output_type": "execute_result",
          "data": {
            "text/plain": [
              "array([ 1, -1])"
            ]
          },
          "metadata": {},
          "execution_count": 17
        }
      ]
    },
    {
      "cell_type": "markdown",
      "source": [
        "**Lab - Working with 1D Numpy Arrays**"
      ],
      "metadata": {
        "id": "NynzT54NN5Lv"
      }
    },
    {
      "cell_type": "markdown",
      "source": [
        "\n",
        "\n",
        "---\n",
        "\n",
        "\n",
        "**Numpy 2D Arrays (7:08)**\n",
        "\n",
        "https://youtu.be/5kjEO0HnU6Q"
      ],
      "metadata": {
        "id": "_Hl0i_uUN6qI"
      }
    },
    {
      "cell_type": "markdown",
      "source": [
        "We can create Numpy arrays with more than one dimension.\n",
        "This section will focus only on 2D arrays, but you can use Numpy to build arrays of much\n",
        "higher dimensions.\n",
        "In this video we will cover the basics and array creation in 2D, indexing and slicing\n",
        "in 2D, and basic operations in 2D.\n",
        "Consider the list \"a\".\n",
        "The list contains three nested lists each of equal size.\n",
        "Each list is color coded for simplicity.\n",
        "We can cast the list to a numpy array as follows.\n",
        "It is helpful to visualize the Numpy array as a rectangular array; each nested list corresponds\n",
        "to a different row of the matrix.\n",
        "We can use the attribute \"ndim\" to obtain the number of axes or dimensions referred\n",
        "to as the rank.\n",
        "The term rank does not refer to the number of linearly independent columns like a matrix.\n",
        "It's useful to think of \"ndim\" as the number of nested lists.\n",
        "The first list represents the first dimension.\n",
        "This list contains another set of lists.\n",
        "This represents the second dimension or axes.\n",
        "The number of lists the list contains does not have to do with the dimension but the\n",
        "shape of the list.\n",
        "As with the 1d array, the attribute \"shape\" returns a tuple.\n",
        "It’s helpful to use the rectangular representation as well.\n",
        "The first element in the tuple corresponds to the number of nested lists contained in\n",
        "the original list or the number of rows in the rectangular representation, in this case 3.\n",
        "The second element corresponds to the size of each of the nested lists or the number\n",
        "of columns in the rectangular array 0.\n",
        "The convention is to label this axis 0 and this axis 1 as follows.\n",
        "We can also use the attribute size to get the size of the array.\n",
        "We see there are three rows and three columns.\n",
        "Multiplying the number of columns and rows together we get the total number of elements,\n",
        "in this case 9.\n",
        "Check out the labs for arrays of different shapes and other attributes.\n",
        "We can use rectangular brackets to access the different elements of the array.\n",
        "The following image demonstrates the relationship between the indexing conventions for the list\n",
        "like representation.\n",
        "The index in the first bracket corresponds to the different nested lists, each a different\n",
        "color.\n",
        "The second bracket corresponds to the index of a particular element within the nested list.\n",
        "Using the rectangular representation, the first index corresponds to the row index.\n",
        "The second index corresponds to the column index.\n",
        "We can also use a single bracket to access the elements as follows.\n",
        "Consider the following syntax.\n",
        "This index corresponds to the second row.\n",
        "And this index, the third column.\n",
        "The value is 23.\n",
        "Consider this example.\n",
        "This index corresponds to the first row.\n",
        "And the second index corresponds to the first column, and a value of 11.\n",
        "We can also use slicing in numpy arrays.\n",
        "The first index corresponds to the first row.\n",
        "The second index accesses the first two columns.\n",
        "Consider this example.\n",
        "The first index corresponds to the last two rows.\n",
        "The second index accesses the last column.\n",
        "We can also add arrays; the process is identical to matrix addition.\n",
        "Consider the matrix X; each element is coloured differently.\n",
        "Consider the matrix Y, similarly each element is coloured differently.\n",
        "We can add the matrices.\n",
        "This corresponds to adding the elements in the same position i.e., adding elements contained\n",
        "in the same colour boxes together.\n",
        "The result is a new matrix that is the same size as matrix Y or X.\n",
        "Each element in this new matrix is the sum of the corresponding elements in X and Y.\n",
        "To add two arrays in numpy we define the array in this case X.\n",
        "Then we define the second array Y.\n",
        "We add the arrays.\n",
        "The result is identical to matrix addition.\n",
        "Multiplying a Numpy array by a scalar is identical to multiplying a matrix by a scalar.\n",
        "Consider the matrix Y, if we multiply the matrix by the scalar 2 we simply multiply\n",
        "every element in the matrix by 2.\n",
        "The result is a new matrix of the same size where each element is multiplied by two.\n",
        "Consider the array y; we first define the array.\n",
        "We multiply the array by a scalar as follows and assign it to the variable Z.\n",
        "The result is a new array where each element is multiplied by two.\n",
        "Multiplication of two arrays corresponds to an element-wise product or Hadamard product.\n",
        "Consider array X and array Y.\n",
        "Hadamard product corresponds to multiplying each of the elements in the same position\n",
        "i.e., multiplying elements contained in the same color boxes together.\n",
        "The result is a new matrix that is the same size as matrix Y or X.\n",
        "Each element in this new matrix is the product of the corresponding elements in X and Y.\n",
        "Consider the array X and Y.\n",
        "We can find the products of two arrays X and Y in one line and assign it to the variable\n",
        "Z as follows.\n",
        "The result is identical to Hadamard product.\n",
        "We can also perform matrix multiplication with numpy arrays.\n",
        "Matrix multiplication is a little more complex, but let's provide a basic overview.\n",
        "Consider the matrix \"A\", where each row is a different colour.\n",
        "Also, consider the matrix \"B\", where each column is a different colour.\n",
        "In linear algebra, before we can multiply matrix \"A\" by matrix \"B\" we must make sure\n",
        "that the number of columns in matrix \"A\", in this case 3, is equal to the number of\n",
        "rows in matrix \"B\", in this case 3.\n",
        "For matrix multiplication to obtain the i-th row and j-th column of the new matrix we take\n",
        "the dot product of the i-throw of \"A\" with the j-th columns of \"B\".\n",
        "For the 1st column 1st row, we take the dot product of the 1st row of \"A\" with the first\n",
        "column of \"B\" as follows.\n",
        "The result is 0.\n",
        "For the first row and the second column of the new matrix we take the dot product of\n",
        "the first row of the matrix \"A\" but this time we use the second column of matrix \"B\"; the\n",
        "result is 2.\n",
        "For the second row and the first column of the new matrix we take the dot product of\n",
        "the second row of the matrix \"A\" with the first column of matrix \"B\"; the result is 0.\n",
        "Finally, for the second row and the second column of the new matrix we take the dot product\n",
        "of the second row of the matrix \"A\" with the second column of matrix \"B\"; the result is 2.\n",
        "In numpy we can define the Numpy arrays \"A\" and \"B\".\n",
        "We can perform matrix multiplication and assign it to array \"C\".\n",
        "The result is the array \"C\".\n",
        "It corresponds to the matrix multiplication of array \"A\" and \"B\".\n",
        "There is a lot more you can do with it in numpy.\n",
        "Check out numpy.org.\n",
        "Thanks for watching this video.\n"
      ],
      "metadata": {
        "id": "r9qw_Uo0OBPJ"
      }
    },
    {
      "cell_type": "code",
      "source": [
        "import numpy as np\n",
        "\n",
        "A = np.array([[1,2],[3,4],[5,6],[7,8]])\n",
        "\n",
        "B = np.array([[1,2,3],[4,5,6],[7,8,9]])\n",
        "\n",
        "#np.dot(A,B)\n",
        "\n",
        "print('Creeme, esto no funciona')"
      ],
      "metadata": {
        "colab": {
          "base_uri": "https://localhost:8080/"
        },
        "id": "k8tqZwTf0Eu6",
        "outputId": "2e748980-9570-40c6-b821-f08f02bc4da8"
      },
      "execution_count": 8,
      "outputs": [
        {
          "output_type": "stream",
          "name": "stdout",
          "text": [
            "Creeme, esto no funciona\n"
          ]
        }
      ]
    },
    {
      "cell_type": "markdown",
      "source": [
        "\n",
        "**Lab - Working with 2D Numpy Arrays**\n",
        "\n"
      ],
      "metadata": {
        "id": "dsZUNMJaOEbL"
      }
    },
    {
      "cell_type": "markdown",
      "source": [
        "\n",
        "\n",
        "---\n",
        "\n",
        "\n",
        "**Simple APIs - Part 1 (5:45)**\n",
        "\n",
        "https://youtu.be/MlM00ZK27lY"
      ],
      "metadata": {
        "id": "Uxs7aYpF04dT"
      }
    },
    {
      "cell_type": "markdown",
      "source": [
        "In this video we will discuss Application Program Interfaces; API for short.\n",
        "Specifically, we will discuss: What is an API, API Libraries, REST API, including Request\n",
        "and Response.\n",
        "An API lets two pieces of software talk to each other.\n",
        "For example you have your program, you have some data, you have other software components.\n",
        "You use the API to communicate with the API via inputs and outputs.\n",
        "Just like a function, you don’t have to know how the API works, but just its inputs\n",
        "and outputs.\n",
        "Pandas is actually a set of software components, much of which are not even written in Python.\n",
        "You have some data. You have a set of software components.\n",
        "We use the pandas API to process the data by communicating with the other Software Components.\n",
        "Let’s clean up the diagram. When you create a dictionary, and then create\n",
        "a pandas object with the Dataframe constructor, in API lingo, this is an “instance.”\n",
        "The data in the dictionary is passed along to the pandas API.\n",
        "You then use the dataframe to communicate with the API.\n",
        "When you call the method head, the dataframe communicates with the API, displaying the\n",
        "first few rows of the dataframe. When you call the method mean, the API will\n",
        "calculate the mean and return the values.\n",
        "REST APIs are another popular type of API; they allow you to communicate through the\n",
        "internet allowing you to take advantage of resources like storage, access more data,\n",
        "artificial intelligent algorithms, and much more.\n",
        "The RE stands for Representational, the S stands for State, the T stand for Transfer.\n",
        "In rest API’s your program is called the client.\n",
        "The API communicates with a web service you call through the internet.\n",
        "There is a set of rules regarding Communication, Input or Request, and Output or Response.\n",
        "Here are some common terms. You or your code can be thought of as a client.\n",
        "The web service is referred to as a resource. The client finds the service via an endpoint.\n",
        "We will review this more in the next section. The client sends requests to the resource\n",
        "and the response to the client.\n",
        "HTTP methods are a way of transmitting data over the internet.\n",
        "We tell the Rest API’s what to do by sending a request.\n",
        "The request is usually communicated via an HTTP message.\n",
        "The HTTP message usually contains a JSON file. This contains instructions for what operation\n",
        "we would like the service to perform. This operation is transmitted to the webservice\n",
        "via the internet. The service performs the operation.\n",
        "In the similar manner, the webservice returns a response via an HTTP message, where the\n",
        "information is usually returned via a JSON file.\n",
        "This information is transmitted back to the client.\n",
        "Sports data is always changing. This is an excellent application of an API\n",
        "as it can be constantly updated. We will use the nba API by Swar Patel.\n",
        "The API is always being updated from endpoints at NBA.com.\n",
        "It's simple to use so you can focus on the task of collecting data.\n",
        "In the nba API, to make a request for a specific team, it's quite simple.\n",
        "We don't require a JSON file. All we require is an id.\n",
        "This information is stored locally in the API.\n",
        "We import the module teams. The method \"get teams\" returns a lists of\n",
        "dictionaries, which have the same keys, but the values depend on the team.\n",
        "The dictionary key id has a unique identifier for each team as a value.\n",
        "To make things easier, we can convert the dictionary to a table.\n",
        "First, we create the function \"one dict,\" to create a dictionary.\n",
        "We use the common keys for each team as the keys, the value is a list; each element of\n",
        "the list corresponds to the values for each team.\n",
        "We then convert the dictionary to a dataframe; each row contains the information for a different\n",
        "team. We’ll use the team's nickname to find the\n",
        "unique id.\n",
        "We can find the row that contains the Warriors as follows.\n",
        "The id is the first column. We can use the following line of code to access\n",
        "the first column of the data frame. We now have an integer that can be used to\n",
        "request the Warriors’ information.\n",
        "The function \"League Game Finder\" will make an API call.\n",
        "The parameter \"team id nullable\" is the unique ID for the Warriors.\n",
        "Under the hood, the NBA API is making an HTTP request.\n",
        "This is transmitted to NBA.com.\n",
        "The information requested is provided and is transmitted via an HTTP response.\n",
        "This is assigned to the object “gamefinder.”\n",
        "The gamefinder object has a method get data frame, that returns a dataframe.\n",
        "If we view the dataframe, we can see it contains information about all the games the Warriors\n",
        "played. The PLUS MINUS column contains information\n",
        "on the score. If the value is negative the Warriors lost\n",
        "by that many points; if the value is positive the Warriors won by that amount of points.\n",
        "The column Matchup had the team the Warriors were playing; GSW stands for Golden State\n",
        "and TOR means Toronto Raptors vs signifies it was a home game and the @ symbol means\n",
        "an away game. We can create two dataframes, one for the\n",
        "games where the Warriors faced the Raptors, at home, and the second for away games.\n",
        "We can plot out the PLUS MINUS column for both dataframes.\n",
        "We see the Warriors played better at home.\n"
      ],
      "metadata": {
        "id": "ea4EeFfy0_4X"
      }
    },
    {
      "cell_type": "markdown",
      "source": [
        "**Simple APIs - Part 2 (5:01)**\n",
        "https://youtu.be/Ic8wqgOgGA0"
      ],
      "metadata": {
        "id": "iJbXPcdxI1sM"
      }
    },
    {
      "cell_type": "markdown",
      "source": [
        "In this video, we will discuss Application Program Interfaces that use some kind of artificial\n",
        "intelligence.\n",
        "We will transcribe an audio file using the Watson Text to Speech API.\n",
        "We will then translate the text to a new language using the Watson language-translator API.\n",
        "In the API call, you will send a copy of the audio file to the API; this is sometimes called\n",
        "a post request. Then the API will send the text transcription\n",
        "of what the individual is saying. Under the hood, the API is making a get request.\n",
        "We then send the text we would like to translate into a second language to a second API.\n",
        "The API will translate the text and send the translation back to you; in this case, we\n",
        "translate English to Spanish.\n",
        "We then provide an overview of: API keys and endpoints,\n",
        "Watson Speech to Text, and Watson Translate.\n",
        "First we will review API keys and endpoints, they will give you access to the API.\n",
        "An API key is a way to access the API. It’s a unique set of characters that the\n",
        "API uses to identify you and authorize you. Usually your first call to the API includes\n",
        "the API key. This will allow you access to the API.\n",
        "In many api’s you may get charged for each call. So like your password you should keep\n",
        "your API key a secret.\n",
        "An endpoint is simply the location of the service. It’s used to find the API on the\n",
        "internet, just like a web address.\n",
        "Now, we will transcribe an audio file using the Watson Text to Speech API.\n",
        "Before you start the lab you should sign up for an API key.\n",
        "We will down load an audio file into your directory.\n",
        "First we import SpeechToTextV1 from ibm Watson.\n",
        "The service endpoint is based on the location of the service instance.\n",
        "We store the information in the variable “URL underscore s2t.”\n",
        "To find out which URL to use, view the service credentials.\n",
        "You will do the same for your API key.\n",
        "You create a Speech To Text Adapter object. The parameters are the endpoint and API key.\n",
        "You will use this object to communicate with the Watson Speech to text service.\n",
        "We have the path of the wav file we would like to convert to text. We create the\n",
        "file object \"wav\" with the wav file using open; we set the mode to \"rb\", which\n",
        "means to read the file in binary format. The file object allows us access to the wav\n",
        "file that contains the audio. We use the method recognize from the Speech\n",
        "To Text Adapter object. This basically sends the audio file to Watson\n",
        "Speech to text service. The parameter audio is the file object.\n",
        "The content type is the audio file format. The service sends a response stored in the\n",
        "object response.\n",
        "The attribute result contains a Python dictionary. The key results value has a list that contains\n",
        "a dictionary. We are interested in the key transcript.\n",
        "We can assign it to the variable recognized_text as follows.\n",
        "Recognized_text now contains a string with the transcribed text.\n",
        "Now let’s see how to translate the text using the Watson Language Translator.\n",
        "First we import Language Translator V3 from ibm_watson.\n",
        "We assign the service endpoint to the variable “url lt.” You can obtain the service in\n",
        "the lab instructions. You require an API key, see the lab instructions\n",
        "on how to obtain the API key. This API requests requires the date of the\n",
        "version, see the documentation. We create a Language Translator object ”language\n",
        "translator.” We can get a list of the languages that the\n",
        "service can identify as follows. The method returns the language code.\n",
        "For example, English has a symbol “e n” to Spanish, which has the symbol “e s.”\n",
        "In the last section we assigned the transcribed text to the variable to “recognized_text\"\n",
        "We can use the method translate. This will\n",
        "translate the text; the result is a Detailed Response object.\n",
        "The parameter “text” is the text. “Model_id” is the type of model we would\n",
        "like to use. In this case, we set it to ‘en - es’ for\n",
        "English to Spanish. We use the method get result to get the translated\n",
        "text and assign it to the variable translation. The result is a dictionary that includes the\n",
        "translation word count and character count. We can obtain the translation and assign it\n",
        "to the variable Spanish_translation as follows.\n",
        "Using the variable Spanish_translation, we can translate the text back to English as\n",
        "follows. The result is a dictionary. We can obtain\n",
        "the string with the text as follows. We can then translate the text To French as follows.\n",
        "Thanks for watching this video!\n"
      ],
      "metadata": {
        "id": "S9l9Y9neI51J"
      }
    },
    {
      "cell_type": "markdown",
      "source": [
        "**Lab - HTTP and Requests**"
      ],
      "metadata": {
        "id": "XplG0SXISAfG"
      }
    },
    {
      "cell_type": "markdown",
      "source": [
        "**Lab - API**"
      ],
      "metadata": {
        "id": "Nw26bkBySDQS"
      }
    },
    {
      "cell_type": "markdown",
      "source": [
        "**Review Questions 5**\n",
        "1. What is the result of the following lines of code:\n",
        "\n",
        "> a=np.array([0,1,0,1,0])\n",
        "\n",
        "\n",
        "> b=np.array([1,0,1,0,1])\n",
        "\n",
        "> a*b"
      ],
      "metadata": {
        "id": "sAHL1gASSG00"
      }
    },
    {
      "cell_type": "code",
      "source": [
        "a=np.array([0,1,0,1,0])\n",
        "\n",
        "b=np.array([1,0,1,0,1])\n",
        "\n",
        "a*b"
      ],
      "metadata": {
        "colab": {
          "base_uri": "https://localhost:8080/"
        },
        "id": "1t8tWzvxST6U",
        "outputId": "5730ca04-84c2-443b-9d5d-a29b707e9e45"
      },
      "execution_count": 9,
      "outputs": [
        {
          "output_type": "execute_result",
          "data": {
            "text/plain": [
              "array([0, 0, 0, 0, 0])"
            ]
          },
          "metadata": {},
          "execution_count": 9
        }
      ]
    },
    {
      "cell_type": "markdown",
      "source": [
        "2. What is the result of the following lines of code:\n",
        "\n",
        "> a=np.array([0,1])\n",
        "\n",
        "> b=np.array([1,0])\n",
        "\n",
        "> np.dot(a,b)"
      ],
      "metadata": {
        "id": "gkAZ8xkJSawE"
      }
    },
    {
      "cell_type": "code",
      "source": [
        "a=np.array([0,1])\n",
        "\n",
        "b=np.array([1,0])\n",
        "\n",
        "np.dot(a,b)"
      ],
      "metadata": {
        "colab": {
          "base_uri": "https://localhost:8080/"
        },
        "id": "AZqZQhrzShum",
        "outputId": "f1c9b639-032a-4b1b-a24d-063633cd0931"
      },
      "execution_count": 10,
      "outputs": [
        {
          "output_type": "execute_result",
          "data": {
            "text/plain": [
              "0"
            ]
          },
          "metadata": {},
          "execution_count": 10
        }
      ]
    },
    {
      "cell_type": "markdown",
      "source": [
        "3. What is the result of the following lines of code:\n",
        "\n",
        "> a=np.array([1,1,1,1,1])\n",
        "\n",
        "> a+10"
      ],
      "metadata": {
        "id": "sA0dEUIgSgsd"
      }
    },
    {
      "cell_type": "code",
      "source": [
        "a=np.array([1,1,1,1,1])\n",
        "\n",
        "a+10"
      ],
      "metadata": {
        "colab": {
          "base_uri": "https://localhost:8080/"
        },
        "id": "GZtopFefSqeV",
        "outputId": "c0f41caa-a97c-439c-f521-f5dae54dfd44"
      },
      "execution_count": 11,
      "outputs": [
        {
          "output_type": "execute_result",
          "data": {
            "text/plain": [
              "array([11, 11, 11, 11, 11])"
            ]
          },
          "metadata": {},
          "execution_count": 11
        }
      ]
    },
    {
      "cell_type": "markdown",
      "source": [
        "4. What is the correct code to perform matrix multiplication on the matrix A and B?\n",
        "[np.dot(A,B)]\n"
      ],
      "metadata": {
        "id": "wt_EDeu6S2yX"
      }
    },
    {
      "cell_type": "markdown",
      "source": [
        "**Referencias:**\n",
        "\n",
        "Lutz, Mark. Learning Python: Powerful Object-Oriented Programming. \" O'Reilly Media, Inc.\", 2013.\n",
        "\n",
        "Ana Bell, Eric Grimson and John Guttag.  Introduction to Computer Science and Programming in Python, MIT Open Course Ware, MIT 2017"
      ],
      "metadata": {
        "id": "FFGZ8OXwTCtu"
      }
    },
    {
      "cell_type": "markdown",
      "source": [
        "# Final Exam is a Timed Exam (1 hour)"
      ],
      "metadata": {
        "id": "-agktNR7TR12"
      }
    },
    {
      "cell_type": "markdown",
      "source": [
        "1. What is the result of the following operation 3+2*2? [7]"
      ],
      "metadata": {
        "id": "EDS5iJw6TUJU"
      }
    },
    {
      "cell_type": "markdown",
      "source": [
        "2. What is the type of the following variable: True? [Bool]"
      ],
      "metadata": {
        "id": "fdYhdiYnTceL"
      }
    },
    {
      "cell_type": "markdown",
      "source": [
        "3. What is the result of the following operation int(3.2)? [3]"
      ],
      "metadata": {
        "id": "wFDf-DFlTmgH"
      }
    },
    {
      "cell_type": "markdown",
      "source": [
        "4. Consider the string A='1234567', what is the result of the following operation: A[1::2]"
      ],
      "metadata": {
        "id": "OSePvd39Tsbs"
      }
    },
    {
      "cell_type": "code",
      "source": [
        "A='1234567'\n",
        "A[1::2]"
      ],
      "metadata": {
        "colab": {
          "base_uri": "https://localhost:8080/",
          "height": 36
        },
        "id": "ctS_r4d3TvFO",
        "outputId": "9304c323-5b57-493b-a51a-9223ad374613"
      },
      "execution_count": 12,
      "outputs": [
        {
          "output_type": "execute_result",
          "data": {
            "text/plain": [
              "'246'"
            ],
            "application/vnd.google.colaboratory.intrinsic+json": {
              "type": "string"
            }
          },
          "metadata": {},
          "execution_count": 12
        }
      ]
    },
    {
      "cell_type": "markdown",
      "source": [
        "5. Consider the string Name=\"Michael Jackson\" , what is the result of the following operation Name.find('el')"
      ],
      "metadata": {
        "id": "BNguEr-gT0VD"
      }
    },
    {
      "cell_type": "code",
      "source": [
        "Name=\"Michael Jackson\"\n",
        "Name.find('el')"
      ],
      "metadata": {
        "colab": {
          "base_uri": "https://localhost:8080/"
        },
        "id": "Zm5ShPJRT1dC",
        "outputId": "6527a6d7-24a8-4ca8-84ec-f6bf5753dee4"
      },
      "execution_count": 13,
      "outputs": [
        {
          "output_type": "execute_result",
          "data": {
            "text/plain": [
              "5"
            ]
          },
          "metadata": {},
          "execution_count": 13
        }
      ]
    },
    {
      "cell_type": "markdown",
      "source": [
        "6. The variables A='1' and B='2' ,what is the result of the operation A+B? \n"
      ],
      "metadata": {
        "id": "oR2vBq4dT9bB"
      }
    },
    {
      "cell_type": "code",
      "source": [
        " A='1' \n",
        " B='2'\n",
        " A+B"
      ],
      "metadata": {
        "colab": {
          "base_uri": "https://localhost:8080/",
          "height": 36
        },
        "id": "jMLAa59vUAOQ",
        "outputId": "daea0598-be23-45a8-f23d-be4de13721a6"
      },
      "execution_count": 14,
      "outputs": [
        {
          "output_type": "execute_result",
          "data": {
            "text/plain": [
              "'12'"
            ],
            "application/vnd.google.colaboratory.intrinsic+json": {
              "type": "string"
            }
          },
          "metadata": {},
          "execution_count": 14
        }
      ]
    },
    {
      "cell_type": "markdown",
      "source": [
        "7. Consider the variable F=\"You are wrong\", Convert the values in the variable F to uppercase?"
      ],
      "metadata": {
        "id": "Yx_r_xjvUGmS"
      }
    },
    {
      "cell_type": "code",
      "source": [
        "F=\"You are wrong\"\n",
        "print(F.upper())\n"
      ],
      "metadata": {
        "colab": {
          "base_uri": "https://localhost:8080/"
        },
        "id": "W0acbzcJUJeC",
        "outputId": "97fbec23-aedc-4c10-b2fa-3f28547fcfc2"
      },
      "execution_count": 21,
      "outputs": [
        {
          "output_type": "stream",
          "name": "stdout",
          "text": [
            "YOU ARE WRONG\n"
          ]
        }
      ]
    },
    {
      "cell_type": "markdown",
      "source": [
        "8. Consider the tuple tuple1=(\"A\",\"B\",\"C\" ), what is the result of the following operation tuple1[-1]?"
      ],
      "metadata": {
        "id": "ytwqMicjUdA4"
      }
    },
    {
      "cell_type": "code",
      "source": [
        "tuple1=(\"A\",\"B\",\"C\" )\n",
        "tuple1[-1]"
      ],
      "metadata": {
        "colab": {
          "base_uri": "https://localhost:8080/",
          "height": 36
        },
        "id": "6zcK1rfoUesh",
        "outputId": "ffe298a2-764e-41f1-ae7b-48187b6c3a5a"
      },
      "execution_count": 22,
      "outputs": [
        {
          "output_type": "execute_result",
          "data": {
            "text/plain": [
              "'C'"
            ],
            "application/vnd.google.colaboratory.intrinsic+json": {
              "type": "string"
            }
          },
          "metadata": {},
          "execution_count": 22
        }
      ]
    },
    {
      "cell_type": "markdown",
      "source": [
        "9. Consider the tuple A=((11,12),[21,22]), that contains a tuple and list. What is the result of the following operation A[1]:"
      ],
      "metadata": {
        "id": "InL4S-hzUkNi"
      }
    },
    {
      "cell_type": "code",
      "source": [
        "A=((11,12),[21,22])\n",
        "A[1]"
      ],
      "metadata": {
        "colab": {
          "base_uri": "https://localhost:8080/"
        },
        "id": "0M0FCCCkUmAi",
        "outputId": "6f071214-4348-4d76-cafc-250591385434"
      },
      "execution_count": 23,
      "outputs": [
        {
          "output_type": "execute_result",
          "data": {
            "text/plain": [
              "[21, 22]"
            ]
          },
          "metadata": {},
          "execution_count": 23
        }
      ]
    },
    {
      "cell_type": "markdown",
      "source": [
        "10. Consider the tuple A=((11,12),[21,22]), that contains a tuple and list. What is the result of the following operation A[0][1]:\n"
      ],
      "metadata": {
        "id": "T3jpn0PcUrYS"
      }
    },
    {
      "cell_type": "code",
      "source": [
        " A[0][1]"
      ],
      "metadata": {
        "colab": {
          "base_uri": "https://localhost:8080/"
        },
        "id": "NU3x5J0ZUs4z",
        "outputId": "13ae23ab-5a4a-4ebe-d875-c58b50935565"
      },
      "execution_count": 24,
      "outputs": [
        {
          "output_type": "execute_result",
          "data": {
            "text/plain": [
              "12"
            ]
          },
          "metadata": {},
          "execution_count": 24
        }
      ]
    },
    {
      "cell_type": "markdown",
      "source": [
        "11. What is the result of the following operation '1,2,3,4'.split(',')\n"
      ],
      "metadata": {
        "id": "V1AkDFdeUxfZ"
      }
    },
    {
      "cell_type": "code",
      "source": [
        "'1,2,3,4'.split(',')"
      ],
      "metadata": {
        "colab": {
          "base_uri": "https://localhost:8080/"
        },
        "id": "BQ9UtftEUzYn",
        "outputId": "1be66fe5-63c8-4cab-f148-090661606174"
      },
      "execution_count": 25,
      "outputs": [
        {
          "output_type": "execute_result",
          "data": {
            "text/plain": [
              "['1', '2', '3', '4']"
            ]
          },
          "metadata": {},
          "execution_count": 25
        }
      ]
    },
    {
      "cell_type": "markdown",
      "source": [
        "12. Concatenate the following lists A=[1,'a'] and B=[2,1,'d']:"
      ],
      "metadata": {
        "id": "bnB6V3BYU4Py"
      }
    },
    {
      "cell_type": "code",
      "source": [
        "A=[1,'a'] \n",
        "B=[2,1,'d']\n",
        "A+B"
      ],
      "metadata": {
        "colab": {
          "base_uri": "https://localhost:8080/"
        },
        "id": "6auD8a8AU6Kn",
        "outputId": "d70da928-7ff8-4930-91b4-4f5b7ac601a6"
      },
      "execution_count": 26,
      "outputs": [
        {
          "output_type": "execute_result",
          "data": {
            "text/plain": [
              "[1, 'a', 2, 1, 'd']"
            ]
          },
          "metadata": {},
          "execution_count": 26
        }
      ]
    },
    {
      "cell_type": "markdown",
      "source": [
        "13. How do you cast the list 'A' to the set 'a'?"
      ],
      "metadata": {
        "id": "EGRB3B8aVAF0"
      }
    },
    {
      "cell_type": "code",
      "source": [
        "A=[1,'a', 3, 5, 'b'] \n",
        "a=set(A)\n",
        "a"
      ],
      "metadata": {
        "colab": {
          "base_uri": "https://localhost:8080/"
        },
        "id": "077a7xVXVEDt",
        "outputId": "5b8e9be5-bae7-4684-c0ee-efb2e7f2d4fa"
      },
      "execution_count": 30,
      "outputs": [
        {
          "output_type": "execute_result",
          "data": {
            "text/plain": [
              "{1, 3, 5, 'a', 'b'}"
            ]
          },
          "metadata": {},
          "execution_count": 30
        }
      ]
    },
    {
      "cell_type": "markdown",
      "source": [
        "14. Consider the Set: V={'A','B'}, what is the result of V.add('C')?"
      ],
      "metadata": {
        "id": "kWEmTwDiVTjZ"
      }
    },
    {
      "cell_type": "code",
      "source": [
        "V={'A','B'}\n",
        "V.add('C')\n",
        "V"
      ],
      "metadata": {
        "colab": {
          "base_uri": "https://localhost:8080/"
        },
        "id": "mFeQkaTSVUYU",
        "outputId": "deace4c9-5f92-4aa2-c62f-a3679ec6bd00"
      },
      "execution_count": 31,
      "outputs": [
        {
          "output_type": "execute_result",
          "data": {
            "text/plain": [
              "{'A', 'B', 'C'}"
            ]
          },
          "metadata": {},
          "execution_count": 31
        }
      ]
    },
    {
      "cell_type": "markdown",
      "source": [
        "15. Consider the Set: V={'A','B','C' }, what is the result of V.add('C')?"
      ],
      "metadata": {
        "id": "dH06xgO4VpHb"
      }
    },
    {
      "cell_type": "code",
      "source": [
        "V={'A','B','C' }\n",
        "V.add('C')\n",
        "V"
      ],
      "metadata": {
        "colab": {
          "base_uri": "https://localhost:8080/"
        },
        "id": "BVkLL2E3VroB",
        "outputId": "0fd784d5-898e-401d-d103-e6e333c3395b"
      },
      "execution_count": 33,
      "outputs": [
        {
          "output_type": "execute_result",
          "data": {
            "text/plain": [
              "{'A', 'B', 'C'}"
            ]
          },
          "metadata": {},
          "execution_count": 33
        }
      ]
    },
    {
      "cell_type": "markdown",
      "source": [
        "16. What is the output of the following lines of code:\n",
        "\n",
        "x=\"Go\"\n",
        "\n",
        "if(x!=\"Go\"):\n",
        "\n",
        "> print('Stop')\n",
        "\n",
        "else:\n",
        "\n",
        "> print('Go ')\n",
        "\n",
        "print('Mike')"
      ],
      "metadata": {
        "id": "LgQLMkD3VyAf"
      }
    },
    {
      "cell_type": "code",
      "source": [
        "x=\"Go\"\n",
        "\n",
        "if(x!=\"Go\"):\n",
        "\n",
        "  print('Stop')\n",
        "\n",
        "else:\n",
        "\n",
        "  print('Go ')\n",
        "\n",
        "print('Mike')"
      ],
      "metadata": {
        "colab": {
          "base_uri": "https://localhost:8080/"
        },
        "id": "dAkh-Z1GV41k",
        "outputId": "9acd77f4-123d-403f-e47d-669f3eeea22e"
      },
      "execution_count": 34,
      "outputs": [
        {
          "output_type": "stream",
          "name": "stdout",
          "text": [
            "Go \n",
            "Mike\n"
          ]
        }
      ]
    },
    {
      "cell_type": "markdown",
      "source": [
        "17. What is the output of the following lines of code:\n",
        "\n",
        "x=\"Go\"\n",
        "\n",
        "if(x==\"Go\"):\n",
        "\n",
        "> print('Go ')\n",
        "\n",
        "else:\n",
        "\n",
        "> print('Stop')\n",
        "\n",
        "print('Mike')"
      ],
      "metadata": {
        "id": "qRcyfCJoWBXq"
      }
    },
    {
      "cell_type": "code",
      "source": [
        "x=\"Go\"\n",
        "\n",
        "if(x==\"Go\"):\n",
        "\n",
        "  print('Go ')\n",
        "\n",
        "else:\n",
        "\n",
        "  print('Stop')\n",
        "\n",
        "print('Mike')"
      ],
      "metadata": {
        "colab": {
          "base_uri": "https://localhost:8080/"
        },
        "id": "s8uk_PipWGqH",
        "outputId": "ca5266f7-f09d-414e-c1a9-f677dec9f258"
      },
      "execution_count": 36,
      "outputs": [
        {
          "output_type": "stream",
          "name": "stdout",
          "text": [
            "Go \n",
            "Mike\n"
          ]
        }
      ]
    },
    {
      "cell_type": "markdown",
      "source": [
        "18. How many iterations are performed in the following loop?\n",
        "\n",
        "for n in range(3):\n",
        "\n",
        "> print(n)"
      ],
      "metadata": {
        "id": "tzmvGnsAWOgW"
      }
    },
    {
      "cell_type": "code",
      "source": [
        "i=0\n",
        "for n in range(3):\n",
        "  i+=1\n",
        "  print(n)\n",
        "i"
      ],
      "metadata": {
        "colab": {
          "base_uri": "https://localhost:8080/"
        },
        "id": "cbI3_GNxWUe9",
        "outputId": "aac7aed7-84f0-4d78-b612-b5b212e540cc"
      },
      "execution_count": 40,
      "outputs": [
        {
          "output_type": "stream",
          "name": "stdout",
          "text": [
            "0\n",
            "1\n",
            "2\n"
          ]
        },
        {
          "output_type": "execute_result",
          "data": {
            "text/plain": [
              "3"
            ]
          },
          "metadata": {},
          "execution_count": 40
        }
      ]
    },
    {
      "cell_type": "markdown",
      "source": [
        "19. What does the following loop print?\n",
        "\n",
        "for n in range(3):\n",
        "\n",
        "> print(n+1)"
      ],
      "metadata": {
        "id": "VshfN8ybWhHe"
      }
    },
    {
      "cell_type": "code",
      "source": [
        "for n in range(3):\n",
        "\n",
        "  print(n+1)"
      ],
      "metadata": {
        "colab": {
          "base_uri": "https://localhost:8080/"
        },
        "id": "8C1LTn1FWjjV",
        "outputId": "9dabe501-ea0c-4d9c-a106-c587aeb90aca"
      },
      "execution_count": 41,
      "outputs": [
        {
          "output_type": "stream",
          "name": "stdout",
          "text": [
            "1\n",
            "2\n",
            "3\n"
          ]
        }
      ]
    },
    {
      "cell_type": "markdown",
      "source": [
        "20. What is the output of the following few lines of code ?\n",
        "\n",
        "A=['1','2','3']\n",
        "\n",
        "for a in A:\n",
        "\n",
        "> print(2*a)"
      ],
      "metadata": {
        "id": "O6aW6hJ-Wpbg"
      }
    },
    {
      "cell_type": "code",
      "source": [
        "A=['1','2','3']\n",
        "\n",
        "for a in A:\n",
        "\n",
        "  print(2*a)"
      ],
      "metadata": {
        "colab": {
          "base_uri": "https://localhost:8080/"
        },
        "id": "HKnYAbY8Wsha",
        "outputId": "7987569f-3dfb-4408-8f33-1b9ec54e863f"
      },
      "execution_count": 42,
      "outputs": [
        {
          "output_type": "stream",
          "name": "stdout",
          "text": [
            "11\n",
            "22\n",
            "33\n"
          ]
        }
      ]
    },
    {
      "cell_type": "markdown",
      "source": [
        "21. Consider the function add, what is the result of calling the following Add('1','1') (look closely at the return statement )\n",
        "\n",
        "def Add(x,y):\n",
        "\n",
        "> z=y+x\n",
        "\n",
        "> return(y)"
      ],
      "metadata": {
        "id": "Paq_2YvUWzT8"
      }
    },
    {
      "cell_type": "code",
      "source": [
        "def Add(x,y):\n",
        "\n",
        "  z=y+x\n",
        "\n",
        "  return(y)\n",
        "Add('1','1')"
      ],
      "metadata": {
        "colab": {
          "base_uri": "https://localhost:8080/",
          "height": 36
        },
        "id": "E9b-NdkbW3az",
        "outputId": "39e91663-0aa9-4546-bd4e-b9099c953e1d"
      },
      "execution_count": 43,
      "outputs": [
        {
          "output_type": "execute_result",
          "data": {
            "text/plain": [
              "'1'"
            ],
            "application/vnd.google.colaboratory.intrinsic+json": {
              "type": "string"
            }
          },
          "metadata": {},
          "execution_count": 43
        }
      ]
    },
    {
      "cell_type": "markdown",
      "source": [
        "22. Consider the class Points, what are the data attributes:  [self.x self.y]\n",
        "\n",
        "class Points(object):\n",
        "\n",
        "def __init__(self,x,y):\n",
        "\n",
        "> self.x=x\n",
        "\n",
        "> self.y=y\n",
        "\n",
        "def print_point(self):\n",
        "\n",
        "> print('x=',self.x,'y=',self.y)"
      ],
      "metadata": {
        "id": "fzcCNCvLXBu_"
      }
    },
    {
      "cell_type": "code",
      "source": [
        "def init(self,x,y):\n",
        "\n",
        "  self.x=x\n",
        "\n",
        "  self.y=y\n",
        "\n",
        "def print_point(self):\n",
        "\n",
        "  print('x=',self.x,'y=',self.y)"
      ],
      "metadata": {
        "id": "3xi26YwRXIkY"
      },
      "execution_count": 44,
      "outputs": []
    },
    {
      "cell_type": "markdown",
      "source": [
        "23. What is the result of running the following lines of code ? [x=1 y=2]\n",
        "\n",
        "class Points(object):\n",
        "\n",
        "def __init__(self,x,y):\n",
        "\n",
        "> self.x=x\n",
        "\n",
        "> self.y=y\n",
        "\n",
        "def print_point(self):\n",
        "\n",
        "> print('x=',self.x,' y=',self.y)\n",
        "\n",
        "p1=Points(1,2)\n",
        "\n",
        "p1.print_point()"
      ],
      "metadata": {
        "id": "wg9oUalMXZAa"
      }
    },
    {
      "cell_type": "code",
      "source": [
        "class Points(object):\n",
        "\n",
        "  def init(self,x,y):\n",
        "\n",
        "    self.x=x\n",
        "\n",
        "    self.y=y\n",
        "\n",
        "  def print_point(self):\n",
        "\n",
        "    print('x=',self.x,' y=',self.y)\n",
        "\n",
        "#p1=Points(1,2)\n",
        "\n",
        "#p1.print_point()"
      ],
      "metadata": {
        "id": "Xwf6Rj7EXhwY"
      },
      "execution_count": 47,
      "outputs": []
    },
    {
      "cell_type": "markdown",
      "source": [
        "24. What is the result of running the following lines of code ? [x=2 y=2]\n",
        "\n",
        "class Points(object):\n",
        "\n",
        "def __init__(self,x,y):\n",
        "\n",
        "> self.x=x\n",
        "\n",
        "> self.y=y\n",
        "\n",
        "def print_point(self):\n",
        "\n",
        "> print('x=',self.x,' y=',self.y)\n",
        "\n",
        "p2=Points(1,2)\n",
        "\n",
        "p2.x=2\n",
        "\n",
        "p2.print_point()"
      ],
      "metadata": {
        "id": "_BDqa3Y9YGAH"
      }
    },
    {
      "cell_type": "code",
      "source": [
        "class points(object):\n",
        "\n",
        "  def init(self,x,y):\n",
        "\n",
        "    self.x=x\n",
        "\n",
        "    self.y=y\n",
        "\n",
        "  def print_point(self):\n",
        "\n",
        "    print('x=',self.x,' y=',self.y)\n",
        "\n",
        "#p2=points(1,2)\n",
        "\n",
        "#p2.x=2\n",
        "\n",
        "#p2.print_point()"
      ],
      "metadata": {
        "id": "Y02_Y4R1YQKR"
      },
      "execution_count": 53,
      "outputs": []
    },
    {
      "cell_type": "markdown",
      "source": [
        "25. Consider the following line of code: with open(example1,\"r\") as file1: \n",
        "\n",
        "What mode is the file object in? [read]\n"
      ],
      "metadata": {
        "id": "A92psmp8Y83c"
      }
    },
    {
      "cell_type": "markdown",
      "source": [
        "# **Certificado**\n",
        "To claim your certificate please do the following.\n",
        "\n",
        "Go to your progress page by selecting progress at the top of the page.\n",
        "\n",
        " \n",
        "\n",
        "If you have successfully completed the course you will see a Request Certificate Button at the top of the page.   Please select that button.\n",
        "\n",
        "\n",
        "\n",
        "You will then be presented with a View Certificate button as seen below.\n",
        "\n",
        "\n",
        "\n",
        "Selecting the View Certificate button will allow you to print your certificate to .PDF or print a hard copy of your certificate."
      ],
      "metadata": {
        "id": "O830-cteZjkH"
      }
    },
    {
      "cell_type": "markdown",
      "source": [
        "https://courses.cognitiveclass.ai/certificates/545b87b2c4c5430daf2dd8246a4b0515"
      ],
      "metadata": {
        "id": "9ifh81cdZ2rv"
      }
    }
  ]
}